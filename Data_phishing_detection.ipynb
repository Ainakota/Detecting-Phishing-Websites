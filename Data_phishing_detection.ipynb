{
 "cells": [
  {
   "cell_type": "markdown",
   "id": "abd70d66",
   "metadata": {
    "id": "abd70d66"
   },
   "source": [
    "# Introduction:\n",
    "\n",
    "Data phishing has emerged as a prevalent and successful method employed by cybercriminals to deceive individuals and illicitly obtain their personal and financial information. In our increasingly internet-dependent world, where we conduct a significant portion of our daily activities online, fraudsters have found a fertile ground to execute targeted phishing attacks. These modern-day phishing attempts have become remarkably sophisticated, making them harder to detect. Astonishingly, a recent study conducted by Intel revealed that an overwhelming 97% of security experts failed to differentiate between genuine emails and phishing emails. This alarming statistic underscores the urgent need for a deeper understanding of data phishing and the implementation of robust countermeasures to safeguard ourselves from these insidious attacks."
   ]
  },
  {
   "cell_type": "markdown",
   "id": "916744ba",
   "metadata": {
    "id": "916744ba"
   },
   "source": [
    "# Problem statement:\n",
    "For many years, phishing attacks have been a disaster. They are causing more and more concern on a global scale.\n",
    "\n",
    "As a data scientist you set the goal of using data science and machine learning to find a solution to this issue."
   ]
  },
  {
   "cell_type": "markdown",
   "id": "076095c8",
   "metadata": {
    "id": "076095c8"
   },
   "source": [
    "# Objective:\n",
    "To build a machine learning model that detects the website as fraudulent must be built in order to stop phishing attacks."
   ]
  },
  {
   "cell_type": "markdown",
   "id": "3a0edfc6",
   "metadata": {
    "id": "3a0edfc6"
   },
   "source": [
    "# Source for the dataset\n",
    "* "
   ]
  },
  {
   "cell_type": "markdown",
   "id": "0a80a168",
   "metadata": {
    "id": "0a80a168"
   },
   "source": [
    "# About the dataset\n",
    "The dataset provided consists of a total of 10,000 urls and it encompasses 18 distinct features that have been extracted. Its primary purpose is to serve as a benchmark for machine learning-driven systems that specialize in detecting phishing attempts. It is noteworthy that this dataset has been meticulously balanced, as it contains an equal distribution of 50% phishing URLs and 50% legitimate URLs. This ensures that the dataset accurately represents both types of URLs for comprehensive analysis and evaluation."
   ]
  },
  {
   "cell_type": "markdown",
   "id": "574fe00d",
   "metadata": {
    "id": "574fe00d"
   },
   "source": [
    "### Importing required libraries "
   ]
  },
  {
   "cell_type": "code",
   "execution_count": 81,
   "id": "dc4befd8",
   "metadata": {
    "id": "dc4befd8"
   },
   "outputs": [],
   "source": [
    "import pandas as pd\n",
    "import numpy as np\n",
    "import seaborn as sns\n",
    "import matplotlib.pyplot as plt"
   ]
  },
  {
   "cell_type": "markdown",
   "id": "36a51fe2",
   "metadata": {
    "id": "36a51fe2"
   },
   "source": [
    "### Importing data "
   ]
  },
  {
   "cell_type": "code",
   "execution_count": 83,
   "id": "0e2075e6",
   "metadata": {
    "colab": {
     "base_uri": "https://localhost:8080/",
     "height": 270
    },
    "id": "0e2075e6",
    "outputId": "45868229-d55d-403c-ed8d-fac0016944ef"
   },
   "outputs": [
    {
     "data": {
      "text/html": [
       "<div>\n",
       "<style scoped>\n",
       "    .dataframe tbody tr th:only-of-type {\n",
       "        vertical-align: middle;\n",
       "    }\n",
       "\n",
       "    .dataframe tbody tr th {\n",
       "        vertical-align: top;\n",
       "    }\n",
       "\n",
       "    .dataframe thead th {\n",
       "        text-align: right;\n",
       "    }\n",
       "</style>\n",
       "<table border=\"1\" class=\"dataframe\">\n",
       "  <thead>\n",
       "    <tr style=\"text-align: right;\">\n",
       "      <th></th>\n",
       "      <th>Domain</th>\n",
       "      <th>Have_IP</th>\n",
       "      <th>Have_At</th>\n",
       "      <th>URL_Length</th>\n",
       "      <th>URL_Depth</th>\n",
       "      <th>Redirection</th>\n",
       "      <th>https_Domain</th>\n",
       "      <th>TinyURL</th>\n",
       "      <th>Prefix/Suffix</th>\n",
       "      <th>DNS_Record</th>\n",
       "      <th>Web_Traffic</th>\n",
       "      <th>Domain_Age</th>\n",
       "      <th>Domain_End</th>\n",
       "      <th>iFrame</th>\n",
       "      <th>Mouse_Over</th>\n",
       "      <th>Right_Click</th>\n",
       "      <th>Web_Forwards</th>\n",
       "      <th>Label</th>\n",
       "    </tr>\n",
       "  </thead>\n",
       "  <tbody>\n",
       "    <tr>\n",
       "      <th>0</th>\n",
       "      <td>creativemarket.com</td>\n",
       "      <td>0</td>\n",
       "      <td>0</td>\n",
       "      <td>1</td>\n",
       "      <td>3</td>\n",
       "      <td>0</td>\n",
       "      <td>0</td>\n",
       "      <td>1</td>\n",
       "      <td>0</td>\n",
       "      <td>0.0</td>\n",
       "      <td>1.0</td>\n",
       "      <td>0.0</td>\n",
       "      <td>1.0</td>\n",
       "      <td>0</td>\n",
       "      <td>0</td>\n",
       "      <td>1</td>\n",
       "      <td>1</td>\n",
       "      <td>0</td>\n",
       "    </tr>\n",
       "    <tr>\n",
       "      <th>1</th>\n",
       "      <td>fareast.qa</td>\n",
       "      <td>0</td>\n",
       "      <td>0</td>\n",
       "      <td>1</td>\n",
       "      <td>3</td>\n",
       "      <td>0</td>\n",
       "      <td>0</td>\n",
       "      <td>0</td>\n",
       "      <td>0</td>\n",
       "      <td>1.0</td>\n",
       "      <td>1.0</td>\n",
       "      <td>1.0</td>\n",
       "      <td>1.0</td>\n",
       "      <td>1</td>\n",
       "      <td>0</td>\n",
       "      <td>1</td>\n",
       "      <td>0</td>\n",
       "      <td>1</td>\n",
       "    </tr>\n",
       "    <tr>\n",
       "      <th>2</th>\n",
       "      <td>rocketnews24.com</td>\n",
       "      <td>0</td>\n",
       "      <td>0</td>\n",
       "      <td>1</td>\n",
       "      <td>2</td>\n",
       "      <td>0</td>\n",
       "      <td>0</td>\n",
       "      <td>0</td>\n",
       "      <td>0</td>\n",
       "      <td>0.0</td>\n",
       "      <td>1.0</td>\n",
       "      <td>1.0</td>\n",
       "      <td>1.0</td>\n",
       "      <td>0</td>\n",
       "      <td>0</td>\n",
       "      <td>1</td>\n",
       "      <td>0</td>\n",
       "      <td>0</td>\n",
       "    </tr>\n",
       "    <tr>\n",
       "      <th>3</th>\n",
       "      <td>girlsgettinggoals.com</td>\n",
       "      <td>0</td>\n",
       "      <td>0</td>\n",
       "      <td>0</td>\n",
       "      <td>2</td>\n",
       "      <td>0</td>\n",
       "      <td>0</td>\n",
       "      <td>0</td>\n",
       "      <td>0</td>\n",
       "      <td>0.0</td>\n",
       "      <td>1.0</td>\n",
       "      <td>0.0</td>\n",
       "      <td>1.0</td>\n",
       "      <td>0</td>\n",
       "      <td>0</td>\n",
       "      <td>1</td>\n",
       "      <td>0</td>\n",
       "      <td>1</td>\n",
       "    </tr>\n",
       "    <tr>\n",
       "      <th>4</th>\n",
       "      <td>olx.ua</td>\n",
       "      <td>0</td>\n",
       "      <td>0</td>\n",
       "      <td>1</td>\n",
       "      <td>3</td>\n",
       "      <td>0</td>\n",
       "      <td>0</td>\n",
       "      <td>0</td>\n",
       "      <td>0</td>\n",
       "      <td>0.0</td>\n",
       "      <td>1.0</td>\n",
       "      <td>1.0</td>\n",
       "      <td>1.0</td>\n",
       "      <td>0</td>\n",
       "      <td>0</td>\n",
       "      <td>1</td>\n",
       "      <td>0</td>\n",
       "      <td>0</td>\n",
       "    </tr>\n",
       "  </tbody>\n",
       "</table>\n",
       "</div>"
      ],
      "text/plain": [
       "                  Domain  Have_IP  Have_At  URL_Length  URL_Depth  \\\n",
       "0     creativemarket.com        0        0           1          3   \n",
       "1             fareast.qa        0        0           1          3   \n",
       "2       rocketnews24.com        0        0           1          2   \n",
       "3  girlsgettinggoals.com        0        0           0          2   \n",
       "4                 olx.ua        0        0           1          3   \n",
       "\n",
       "   Redirection  https_Domain  TinyURL  Prefix/Suffix  DNS_Record  Web_Traffic  \\\n",
       "0            0             0        1              0         0.0          1.0   \n",
       "1            0             0        0              0         1.0          1.0   \n",
       "2            0             0        0              0         0.0          1.0   \n",
       "3            0             0        0              0         0.0          1.0   \n",
       "4            0             0        0              0         0.0          1.0   \n",
       "\n",
       "   Domain_Age  Domain_End  iFrame  Mouse_Over  Right_Click  Web_Forwards  \\\n",
       "0         0.0         1.0       0           0            1             1   \n",
       "1         1.0         1.0       1           0            1             0   \n",
       "2         1.0         1.0       0           0            1             0   \n",
       "3         0.0         1.0       0           0            1             0   \n",
       "4         1.0         1.0       0           0            1             0   \n",
       "\n",
       "   Label  \n",
       "0      0  \n",
       "1      1  \n",
       "2      0  \n",
       "3      1  \n",
       "4      0  "
      ]
     },
     "execution_count": 83,
     "metadata": {},
     "output_type": "execute_result"
    },
    {
     "data": {
      "text/html": [
       "<div>\n",
       "<style scoped>\n",
       "    .dataframe tbody tr th:only-of-type {\n",
       "        vertical-align: middle;\n",
       "    }\n",
       "\n",
       "    .dataframe tbody tr th {\n",
       "        vertical-align: top;\n",
       "    }\n",
       "\n",
       "    .dataframe thead th {\n",
       "        text-align: right;\n",
       "    }\n",
       "</style>\n",
       "<table border=\"1\" class=\"dataframe\">\n",
       "  <thead>\n",
       "    <tr style=\"text-align: right;\">\n",
       "      <th></th>\n",
       "      <th>Domain</th>\n",
       "      <th>Have_IP</th>\n",
       "      <th>Have_At</th>\n",
       "      <th>URL_Length</th>\n",
       "      <th>URL_Depth</th>\n",
       "      <th>Redirection</th>\n",
       "      <th>https_Domain</th>\n",
       "      <th>TinyURL</th>\n",
       "      <th>Prefix/Suffix</th>\n",
       "      <th>DNS_Record</th>\n",
       "      <th>Web_Traffic</th>\n",
       "      <th>Domain_Age</th>\n",
       "      <th>Domain_End</th>\n",
       "      <th>iFrame</th>\n",
       "      <th>Mouse_Over</th>\n",
       "      <th>Right_Click</th>\n",
       "      <th>Web_Forwards</th>\n",
       "      <th>Label</th>\n",
       "    </tr>\n",
       "  </thead>\n",
       "  <tbody>\n",
       "    <tr>\n",
       "      <th>0</th>\n",
       "      <td>creativemarket.com</td>\n",
       "      <td>0</td>\n",
       "      <td>0</td>\n",
       "      <td>1</td>\n",
       "      <td>3</td>\n",
       "      <td>0</td>\n",
       "      <td>0</td>\n",
       "      <td>1</td>\n",
       "      <td>0</td>\n",
       "      <td>0.0</td>\n",
       "      <td>1.0</td>\n",
       "      <td>0.0</td>\n",
       "      <td>1.0</td>\n",
       "      <td>0</td>\n",
       "      <td>0</td>\n",
       "      <td>1</td>\n",
       "      <td>1</td>\n",
       "      <td>0</td>\n",
       "    </tr>\n",
       "    <tr>\n",
       "      <th>1</th>\n",
       "      <td>fareast.qa</td>\n",
       "      <td>0</td>\n",
       "      <td>0</td>\n",
       "      <td>1</td>\n",
       "      <td>3</td>\n",
       "      <td>0</td>\n",
       "      <td>0</td>\n",
       "      <td>0</td>\n",
       "      <td>0</td>\n",
       "      <td>1.0</td>\n",
       "      <td>1.0</td>\n",
       "      <td>1.0</td>\n",
       "      <td>1.0</td>\n",
       "      <td>1</td>\n",
       "      <td>0</td>\n",
       "      <td>1</td>\n",
       "      <td>0</td>\n",
       "      <td>1</td>\n",
       "    </tr>\n",
       "    <tr>\n",
       "      <th>2</th>\n",
       "      <td>rocketnews24.com</td>\n",
       "      <td>0</td>\n",
       "      <td>0</td>\n",
       "      <td>1</td>\n",
       "      <td>2</td>\n",
       "      <td>0</td>\n",
       "      <td>0</td>\n",
       "      <td>0</td>\n",
       "      <td>0</td>\n",
       "      <td>0.0</td>\n",
       "      <td>1.0</td>\n",
       "      <td>1.0</td>\n",
       "      <td>1.0</td>\n",
       "      <td>0</td>\n",
       "      <td>0</td>\n",
       "      <td>1</td>\n",
       "      <td>0</td>\n",
       "      <td>0</td>\n",
       "    </tr>\n",
       "    <tr>\n",
       "      <th>3</th>\n",
       "      <td>girlsgettinggoals.com</td>\n",
       "      <td>0</td>\n",
       "      <td>0</td>\n",
       "      <td>0</td>\n",
       "      <td>2</td>\n",
       "      <td>0</td>\n",
       "      <td>0</td>\n",
       "      <td>0</td>\n",
       "      <td>0</td>\n",
       "      <td>0.0</td>\n",
       "      <td>1.0</td>\n",
       "      <td>0.0</td>\n",
       "      <td>1.0</td>\n",
       "      <td>0</td>\n",
       "      <td>0</td>\n",
       "      <td>1</td>\n",
       "      <td>0</td>\n",
       "      <td>1</td>\n",
       "    </tr>\n",
       "    <tr>\n",
       "      <th>4</th>\n",
       "      <td>olx.ua</td>\n",
       "      <td>0</td>\n",
       "      <td>0</td>\n",
       "      <td>1</td>\n",
       "      <td>3</td>\n",
       "      <td>0</td>\n",
       "      <td>0</td>\n",
       "      <td>0</td>\n",
       "      <td>0</td>\n",
       "      <td>0.0</td>\n",
       "      <td>1.0</td>\n",
       "      <td>1.0</td>\n",
       "      <td>1.0</td>\n",
       "      <td>0</td>\n",
       "      <td>0</td>\n",
       "      <td>1</td>\n",
       "      <td>0</td>\n",
       "      <td>0</td>\n",
       "    </tr>\n",
       "  </tbody>\n",
       "</table>\n",
       "</div>"
      ],
      "text/plain": [
       "                  Domain  Have_IP  Have_At  URL_Length  URL_Depth  \\\n",
       "0     creativemarket.com        0        0           1          3   \n",
       "1             fareast.qa        0        0           1          3   \n",
       "2       rocketnews24.com        0        0           1          2   \n",
       "3  girlsgettinggoals.com        0        0           0          2   \n",
       "4                 olx.ua        0        0           1          3   \n",
       "\n",
       "   Redirection  https_Domain  TinyURL  Prefix/Suffix  DNS_Record  Web_Traffic  \\\n",
       "0            0             0        1              0         0.0          1.0   \n",
       "1            0             0        0              0         1.0          1.0   \n",
       "2            0             0        0              0         0.0          1.0   \n",
       "3            0             0        0              0         0.0          1.0   \n",
       "4            0             0        0              0         0.0          1.0   \n",
       "\n",
       "   Domain_Age  Domain_End  iFrame  Mouse_Over  Right_Click  Web_Forwards  \\\n",
       "0         0.0         1.0       0           0            1             1   \n",
       "1         1.0         1.0       1           0            1             0   \n",
       "2         1.0         1.0       0           0            1             0   \n",
       "3         0.0         1.0       0           0            1             0   \n",
       "4         1.0         1.0       0           0            1             0   \n",
       "\n",
       "   Label  \n",
       "0      0  \n",
       "1      1  \n",
       "2      0  \n",
       "3      1  \n",
       "4      0  "
      ]
     },
     "execution_count": 83,
     "metadata": {},
     "output_type": "execute_result"
    }
   ],
   "source": [
    "data=pd.read_csv(\"Phishing_Data.csv\")\n",
    "data.head()"
   ]
  },
  {
   "cell_type": "code",
   "execution_count": null,
   "id": "190ca5d9",
   "metadata": {},
   "outputs": [],
   "source": [
    "data = data.sample(frac=1).reset_index(drop=True)"
   ]
  },
  {
   "cell_type": "code",
   "execution_count": null,
   "id": "96f7bea2",
   "metadata": {},
   "outputs": [
    {
     "data": {
      "text/html": [
       "<div>\n",
       "<style scoped>\n",
       "    .dataframe tbody tr th:only-of-type {\n",
       "        vertical-align: middle;\n",
       "    }\n",
       "\n",
       "    .dataframe tbody tr th {\n",
       "        vertical-align: top;\n",
       "    }\n",
       "\n",
       "    .dataframe thead th {\n",
       "        text-align: right;\n",
       "    }\n",
       "</style>\n",
       "<table border=\"1\" class=\"dataframe\">\n",
       "  <thead>\n",
       "    <tr style=\"text-align: right;\">\n",
       "      <th></th>\n",
       "      <th>Domain</th>\n",
       "      <th>Have_IP</th>\n",
       "      <th>Have_At</th>\n",
       "      <th>URL_Length</th>\n",
       "      <th>URL_Depth</th>\n",
       "      <th>Redirection</th>\n",
       "      <th>https_Domain</th>\n",
       "      <th>TinyURL</th>\n",
       "      <th>Prefix/Suffix</th>\n",
       "      <th>DNS_Record</th>\n",
       "      <th>Web_Traffic</th>\n",
       "      <th>Domain_Age</th>\n",
       "      <th>Domain_End</th>\n",
       "      <th>iFrame</th>\n",
       "      <th>Mouse_Over</th>\n",
       "      <th>Right_Click</th>\n",
       "      <th>Web_Forwards</th>\n",
       "      <th>Label</th>\n",
       "    </tr>\n",
       "  </thead>\n",
       "  <tbody>\n",
       "    <tr>\n",
       "      <th>0</th>\n",
       "      <td>nepan.org.np</td>\n",
       "      <td>0</td>\n",
       "      <td>0</td>\n",
       "      <td>0</td>\n",
       "      <td>3</td>\n",
       "      <td>0</td>\n",
       "      <td>0</td>\n",
       "      <td>0</td>\n",
       "      <td>0</td>\n",
       "      <td>0.0</td>\n",
       "      <td>0.0</td>\n",
       "      <td>1.0</td>\n",
       "      <td>1.0</td>\n",
       "      <td>0</td>\n",
       "      <td>0</td>\n",
       "      <td>1</td>\n",
       "      <td>0</td>\n",
       "      <td>1</td>\n",
       "    </tr>\n",
       "    <tr>\n",
       "      <th>1</th>\n",
       "      <td>therockacc.org</td>\n",
       "      <td>0</td>\n",
       "      <td>0</td>\n",
       "      <td>1</td>\n",
       "      <td>4</td>\n",
       "      <td>0</td>\n",
       "      <td>0</td>\n",
       "      <td>0</td>\n",
       "      <td>0</td>\n",
       "      <td>0.0</td>\n",
       "      <td>1.0</td>\n",
       "      <td>0.0</td>\n",
       "      <td>0.0</td>\n",
       "      <td>0</td>\n",
       "      <td>0</td>\n",
       "      <td>1</td>\n",
       "      <td>0</td>\n",
       "      <td>1</td>\n",
       "    </tr>\n",
       "    <tr>\n",
       "      <th>2</th>\n",
       "      <td>telltaleswriting.com</td>\n",
       "      <td>0</td>\n",
       "      <td>0</td>\n",
       "      <td>1</td>\n",
       "      <td>5</td>\n",
       "      <td>0</td>\n",
       "      <td>0</td>\n",
       "      <td>0</td>\n",
       "      <td>0</td>\n",
       "      <td>NaN</td>\n",
       "      <td>NaN</td>\n",
       "      <td>NaN</td>\n",
       "      <td>NaN</td>\n",
       "      <td>0</td>\n",
       "      <td>0</td>\n",
       "      <td>0</td>\n",
       "      <td>0</td>\n",
       "      <td>1</td>\n",
       "    </tr>\n",
       "    <tr>\n",
       "      <th>3</th>\n",
       "      <td>serverfault.com</td>\n",
       "      <td>0</td>\n",
       "      <td>0</td>\n",
       "      <td>1</td>\n",
       "      <td>3</td>\n",
       "      <td>0</td>\n",
       "      <td>0</td>\n",
       "      <td>1</td>\n",
       "      <td>0</td>\n",
       "      <td>0.0</td>\n",
       "      <td>1.0</td>\n",
       "      <td>0.0</td>\n",
       "      <td>1.0</td>\n",
       "      <td>0</td>\n",
       "      <td>0</td>\n",
       "      <td>1</td>\n",
       "      <td>0</td>\n",
       "      <td>0</td>\n",
       "    </tr>\n",
       "    <tr>\n",
       "      <th>4</th>\n",
       "      <td>autoinsquoter.com</td>\n",
       "      <td>0</td>\n",
       "      <td>0</td>\n",
       "      <td>0</td>\n",
       "      <td>2</td>\n",
       "      <td>1</td>\n",
       "      <td>0</td>\n",
       "      <td>0</td>\n",
       "      <td>0</td>\n",
       "      <td>NaN</td>\n",
       "      <td>NaN</td>\n",
       "      <td>NaN</td>\n",
       "      <td>NaN</td>\n",
       "      <td>0</td>\n",
       "      <td>0</td>\n",
       "      <td>0</td>\n",
       "      <td>0</td>\n",
       "      <td>1</td>\n",
       "    </tr>\n",
       "  </tbody>\n",
       "</table>\n",
       "</div>"
      ],
      "text/plain": [
       "                 Domain  Have_IP  Have_At  URL_Length  URL_Depth  Redirection  \\\n",
       "0          nepan.org.np        0        0           0          3            0   \n",
       "1        therockacc.org        0        0           1          4            0   \n",
       "2  telltaleswriting.com        0        0           1          5            0   \n",
       "3       serverfault.com        0        0           1          3            0   \n",
       "4     autoinsquoter.com        0        0           0          2            1   \n",
       "\n",
       "   https_Domain  TinyURL  Prefix/Suffix  DNS_Record  Web_Traffic  Domain_Age  \\\n",
       "0             0        0              0         0.0          0.0         1.0   \n",
       "1             0        0              0         0.0          1.0         0.0   \n",
       "2             0        0              0         NaN          NaN         NaN   \n",
       "3             0        1              0         0.0          1.0         0.0   \n",
       "4             0        0              0         NaN          NaN         NaN   \n",
       "\n",
       "   Domain_End  iFrame  Mouse_Over  Right_Click  Web_Forwards  Label  \n",
       "0         1.0       0           0            1             0      1  \n",
       "1         0.0       0           0            1             0      1  \n",
       "2         NaN       0           0            0             0      1  \n",
       "3         1.0       0           0            1             0      0  \n",
       "4         NaN       0           0            0             0      1  "
      ]
     },
     "execution_count": 59,
     "metadata": {},
     "output_type": "execute_result"
    },
    {
     "data": {
      "text/html": [
       "<div>\n",
       "<style scoped>\n",
       "    .dataframe tbody tr th:only-of-type {\n",
       "        vertical-align: middle;\n",
       "    }\n",
       "\n",
       "    .dataframe tbody tr th {\n",
       "        vertical-align: top;\n",
       "    }\n",
       "\n",
       "    .dataframe thead th {\n",
       "        text-align: right;\n",
       "    }\n",
       "</style>\n",
       "<table border=\"1\" class=\"dataframe\">\n",
       "  <thead>\n",
       "    <tr style=\"text-align: right;\">\n",
       "      <th></th>\n",
       "      <th>Domain</th>\n",
       "      <th>Have_IP</th>\n",
       "      <th>Have_At</th>\n",
       "      <th>URL_Length</th>\n",
       "      <th>URL_Depth</th>\n",
       "      <th>Redirection</th>\n",
       "      <th>https_Domain</th>\n",
       "      <th>TinyURL</th>\n",
       "      <th>Prefix/Suffix</th>\n",
       "      <th>DNS_Record</th>\n",
       "      <th>Web_Traffic</th>\n",
       "      <th>Domain_Age</th>\n",
       "      <th>Domain_End</th>\n",
       "      <th>iFrame</th>\n",
       "      <th>Mouse_Over</th>\n",
       "      <th>Right_Click</th>\n",
       "      <th>Web_Forwards</th>\n",
       "      <th>Label</th>\n",
       "    </tr>\n",
       "  </thead>\n",
       "  <tbody>\n",
       "    <tr>\n",
       "      <th>0</th>\n",
       "      <td>nepan.org.np</td>\n",
       "      <td>0</td>\n",
       "      <td>0</td>\n",
       "      <td>0</td>\n",
       "      <td>3</td>\n",
       "      <td>0</td>\n",
       "      <td>0</td>\n",
       "      <td>0</td>\n",
       "      <td>0</td>\n",
       "      <td>0.0</td>\n",
       "      <td>0.0</td>\n",
       "      <td>1.0</td>\n",
       "      <td>1.0</td>\n",
       "      <td>0</td>\n",
       "      <td>0</td>\n",
       "      <td>1</td>\n",
       "      <td>0</td>\n",
       "      <td>1</td>\n",
       "    </tr>\n",
       "    <tr>\n",
       "      <th>1</th>\n",
       "      <td>therockacc.org</td>\n",
       "      <td>0</td>\n",
       "      <td>0</td>\n",
       "      <td>1</td>\n",
       "      <td>4</td>\n",
       "      <td>0</td>\n",
       "      <td>0</td>\n",
       "      <td>0</td>\n",
       "      <td>0</td>\n",
       "      <td>0.0</td>\n",
       "      <td>1.0</td>\n",
       "      <td>0.0</td>\n",
       "      <td>0.0</td>\n",
       "      <td>0</td>\n",
       "      <td>0</td>\n",
       "      <td>1</td>\n",
       "      <td>0</td>\n",
       "      <td>1</td>\n",
       "    </tr>\n",
       "    <tr>\n",
       "      <th>2</th>\n",
       "      <td>telltaleswriting.com</td>\n",
       "      <td>0</td>\n",
       "      <td>0</td>\n",
       "      <td>1</td>\n",
       "      <td>5</td>\n",
       "      <td>0</td>\n",
       "      <td>0</td>\n",
       "      <td>0</td>\n",
       "      <td>0</td>\n",
       "      <td>NaN</td>\n",
       "      <td>NaN</td>\n",
       "      <td>NaN</td>\n",
       "      <td>NaN</td>\n",
       "      <td>0</td>\n",
       "      <td>0</td>\n",
       "      <td>0</td>\n",
       "      <td>0</td>\n",
       "      <td>1</td>\n",
       "    </tr>\n",
       "    <tr>\n",
       "      <th>3</th>\n",
       "      <td>serverfault.com</td>\n",
       "      <td>0</td>\n",
       "      <td>0</td>\n",
       "      <td>1</td>\n",
       "      <td>3</td>\n",
       "      <td>0</td>\n",
       "      <td>0</td>\n",
       "      <td>1</td>\n",
       "      <td>0</td>\n",
       "      <td>0.0</td>\n",
       "      <td>1.0</td>\n",
       "      <td>0.0</td>\n",
       "      <td>1.0</td>\n",
       "      <td>0</td>\n",
       "      <td>0</td>\n",
       "      <td>1</td>\n",
       "      <td>0</td>\n",
       "      <td>0</td>\n",
       "    </tr>\n",
       "    <tr>\n",
       "      <th>4</th>\n",
       "      <td>autoinsquoter.com</td>\n",
       "      <td>0</td>\n",
       "      <td>0</td>\n",
       "      <td>0</td>\n",
       "      <td>2</td>\n",
       "      <td>1</td>\n",
       "      <td>0</td>\n",
       "      <td>0</td>\n",
       "      <td>0</td>\n",
       "      <td>NaN</td>\n",
       "      <td>NaN</td>\n",
       "      <td>NaN</td>\n",
       "      <td>NaN</td>\n",
       "      <td>0</td>\n",
       "      <td>0</td>\n",
       "      <td>0</td>\n",
       "      <td>0</td>\n",
       "      <td>1</td>\n",
       "    </tr>\n",
       "  </tbody>\n",
       "</table>\n",
       "</div>"
      ],
      "text/plain": [
       "                 Domain  Have_IP  Have_At  URL_Length  URL_Depth  Redirection  \\\n",
       "0          nepan.org.np        0        0           0          3            0   \n",
       "1        therockacc.org        0        0           1          4            0   \n",
       "2  telltaleswriting.com        0        0           1          5            0   \n",
       "3       serverfault.com        0        0           1          3            0   \n",
       "4     autoinsquoter.com        0        0           0          2            1   \n",
       "\n",
       "   https_Domain  TinyURL  Prefix/Suffix  DNS_Record  Web_Traffic  Domain_Age  \\\n",
       "0             0        0              0         0.0          0.0         1.0   \n",
       "1             0        0              0         0.0          1.0         0.0   \n",
       "2             0        0              0         NaN          NaN         NaN   \n",
       "3             0        1              0         0.0          1.0         0.0   \n",
       "4             0        0              0         NaN          NaN         NaN   \n",
       "\n",
       "   Domain_End  iFrame  Mouse_Over  Right_Click  Web_Forwards  Label  \n",
       "0         1.0       0           0            1             0      1  \n",
       "1         0.0       0           0            1             0      1  \n",
       "2         NaN       0           0            0             0      1  \n",
       "3         1.0       0           0            1             0      0  \n",
       "4         NaN       0           0            0             0      1  "
      ]
     },
     "execution_count": 59,
     "metadata": {},
     "output_type": "execute_result"
    }
   ],
   "source": [
    "data.head()"
   ]
  },
  {
   "cell_type": "code",
   "execution_count": null,
   "id": "d5c1e259",
   "metadata": {},
   "outputs": [],
   "source": []
  },
  {
   "cell_type": "markdown",
   "id": "4776bd07",
   "metadata": {
    "id": "4776bd07"
   },
   "source": [
    "### Understanding the data"
   ]
  },
  {
   "cell_type": "code",
   "execution_count": null,
   "id": "3b8ec356",
   "metadata": {
    "colab": {
     "base_uri": "https://localhost:8080/"
    },
    "id": "3b8ec356",
    "outputId": "c0148cf4-37d3-4cc7-dcbd-4cfdfaa5cbb4"
   },
   "outputs": [
    {
     "data": {
      "text/plain": [
       "(22744, 18)"
      ]
     },
     "execution_count": 60,
     "metadata": {},
     "output_type": "execute_result"
    },
    {
     "data": {
      "text/plain": [
       "(22744, 18)"
      ]
     },
     "execution_count": 60,
     "metadata": {},
     "output_type": "execute_result"
    }
   ],
   "source": [
    "# Finding the shape of the dataset\n",
    "data.shape"
   ]
  },
  {
   "cell_type": "code",
   "execution_count": null,
   "id": "a7cd58b6",
   "metadata": {},
   "outputs": [],
   "source": []
  },
  {
   "cell_type": "code",
   "execution_count": null,
   "id": "73b59f44",
   "metadata": {
    "colab": {
     "base_uri": "https://localhost:8080/"
    },
    "id": "73b59f44",
    "outputId": "e5933a57-92d2-4e2b-debc-8c04ea4a1b8d"
   },
   "outputs": [
    {
     "data": {
      "text/plain": [
       "Index(['Domain', 'Have_IP', 'Have_At', 'URL_Length', 'URL_Depth',\n",
       "       'Redirection', 'https_Domain', 'TinyURL', 'Prefix/Suffix', 'DNS_Record',\n",
       "       'Web_Traffic', 'Domain_Age', 'Domain_End', 'iFrame', 'Mouse_Over',\n",
       "       'Right_Click', 'Web_Forwards', 'Label'],\n",
       "      dtype='object')"
      ]
     },
     "execution_count": 61,
     "metadata": {},
     "output_type": "execute_result"
    },
    {
     "data": {
      "text/plain": [
       "Index(['Domain', 'Have_IP', 'Have_At', 'URL_Length', 'URL_Depth',\n",
       "       'Redirection', 'https_Domain', 'TinyURL', 'Prefix/Suffix', 'DNS_Record',\n",
       "       'Web_Traffic', 'Domain_Age', 'Domain_End', 'iFrame', 'Mouse_Over',\n",
       "       'Right_Click', 'Web_Forwards', 'Label'],\n",
       "      dtype='object')"
      ]
     },
     "execution_count": 61,
     "metadata": {},
     "output_type": "execute_result"
    }
   ],
   "source": [
    "# Features of the data\n",
    "data.columns"
   ]
  },
  {
   "cell_type": "code",
   "execution_count": null,
   "id": "c0b5f983",
   "metadata": {
    "colab": {
     "base_uri": "https://localhost:8080/"
    },
    "id": "c0b5f983",
    "outputId": "b1307138-adf7-4500-bdd2-9c82dde0869b"
   },
   "outputs": [
    {
     "name": "stdout",
     "output_type": "stream",
     "text": [
      "<class 'pandas.core.frame.DataFrame'>\n",
      "RangeIndex: 22744 entries, 0 to 22743\n",
      "Data columns (total 18 columns):\n",
      " #   Column         Non-Null Count  Dtype  \n",
      "---  ------         --------------  -----  \n",
      " 0   Domain         22744 non-null  object \n",
      " 1   Have_IP        22744 non-null  int64  \n",
      " 2   Have_At        22744 non-null  int64  \n",
      " 3   URL_Length     22744 non-null  int64  \n",
      " 4   URL_Depth      22744 non-null  int64  \n",
      " 5   Redirection    22744 non-null  int64  \n",
      " 6   https_Domain   22744 non-null  int64  \n",
      " 7   TinyURL        22744 non-null  int64  \n",
      " 8   Prefix/Suffix  22744 non-null  int64  \n",
      " 9   DNS_Record     10000 non-null  float64\n",
      " 10  Web_Traffic    10000 non-null  float64\n",
      " 11  Domain_Age     10000 non-null  float64\n",
      " 12  Domain_End     10000 non-null  float64\n",
      " 13  iFrame         22744 non-null  int64  \n",
      " 14  Mouse_Over     22744 non-null  int64  \n",
      " 15  Right_Click    22744 non-null  int64  \n",
      " 16  Web_Forwards   22744 non-null  int64  \n",
      " 17  Label          22744 non-null  int64  \n",
      "dtypes: float64(4), int64(13), object(1)\n",
      "memory usage: 3.1+ MB\n",
      "<class 'pandas.core.frame.DataFrame'>\n",
      "RangeIndex: 22744 entries, 0 to 22743\n",
      "Data columns (total 18 columns):\n",
      " #   Column         Non-Null Count  Dtype  \n",
      "---  ------         --------------  -----  \n",
      " 0   Domain         22744 non-null  object \n",
      " 1   Have_IP        22744 non-null  int64  \n",
      " 2   Have_At        22744 non-null  int64  \n",
      " 3   URL_Length     22744 non-null  int64  \n",
      " 4   URL_Depth      22744 non-null  int64  \n",
      " 5   Redirection    22744 non-null  int64  \n",
      " 6   https_Domain   22744 non-null  int64  \n",
      " 7   TinyURL        22744 non-null  int64  \n",
      " 8   Prefix/Suffix  22744 non-null  int64  \n",
      " 9   DNS_Record     10000 non-null  float64\n",
      " 10  Web_Traffic    10000 non-null  float64\n",
      " 11  Domain_Age     10000 non-null  float64\n",
      " 12  Domain_End     10000 non-null  float64\n",
      " 13  iFrame         22744 non-null  int64  \n",
      " 14  Mouse_Over     22744 non-null  int64  \n",
      " 15  Right_Click    22744 non-null  int64  \n",
      " 16  Web_Forwards   22744 non-null  int64  \n",
      " 17  Label          22744 non-null  int64  \n",
      "dtypes: float64(4), int64(13), object(1)\n",
      "memory usage: 3.1+ MB\n"
     ]
    }
   ],
   "source": [
    "# Information about dataset\n",
    "data.info()"
   ]
  },
  {
   "cell_type": "code",
   "execution_count": null,
   "id": "a6c70f8a",
   "metadata": {
    "colab": {
     "base_uri": "https://localhost:8080/"
    },
    "id": "a6c70f8a",
    "outputId": "355a362b-84fd-4f84-c098-de982c1de8f3"
   },
   "outputs": [
    {
     "data": {
      "text/plain": [
       "Domain               0\n",
       "Have_IP              0\n",
       "Have_At              0\n",
       "URL_Length           0\n",
       "URL_Depth            0\n",
       "Redirection          0\n",
       "https_Domain         0\n",
       "TinyURL              0\n",
       "Prefix/Suffix        0\n",
       "DNS_Record       12744\n",
       "Web_Traffic      12744\n",
       "Domain_Age       12744\n",
       "Domain_End       12744\n",
       "iFrame               0\n",
       "Mouse_Over           0\n",
       "Right_Click          0\n",
       "Web_Forwards         0\n",
       "Label                0\n",
       "dtype: int64"
      ]
     },
     "execution_count": 63,
     "metadata": {},
     "output_type": "execute_result"
    },
    {
     "data": {
      "text/plain": [
       "Domain               0\n",
       "Have_IP              0\n",
       "Have_At              0\n",
       "URL_Length           0\n",
       "URL_Depth            0\n",
       "Redirection          0\n",
       "https_Domain         0\n",
       "TinyURL              0\n",
       "Prefix/Suffix        0\n",
       "DNS_Record       12744\n",
       "Web_Traffic      12744\n",
       "Domain_Age       12744\n",
       "Domain_End       12744\n",
       "iFrame               0\n",
       "Mouse_Over           0\n",
       "Right_Click          0\n",
       "Web_Forwards         0\n",
       "Label                0\n",
       "dtype: int64"
      ]
     },
     "execution_count": 63,
     "metadata": {},
     "output_type": "execute_result"
    }
   ],
   "source": [
    "# Finding null values\n",
    "data.isna().sum()"
   ]
  },
  {
   "cell_type": "markdown",
   "id": "f0bc1e5d",
   "metadata": {},
   "source": [
    "As the null values in the data of DNS_Record , Web_Traffic, Domain_Age and Domain_End are having large number of null values, we can drop the columns form the dataset."
   ]
  },
  {
   "cell_type": "code",
   "execution_count": null,
   "id": "f88d376c",
   "metadata": {},
   "outputs": [],
   "source": [
    "# Dropping the attributes DNS_Record , Web_Traffic, Domain_Age and Domain_End\n",
    "data.drop(['DNS_Record','Web_Traffic','Domain_Age','Domain_End'],axis=1,inplace=True)"
   ]
  },
  {
   "cell_type": "code",
   "execution_count": null,
   "id": "e4c9aa4d",
   "metadata": {
    "colab": {
     "base_uri": "https://localhost:8080/",
     "height": 270
    },
    "id": "e4c9aa4d",
    "outputId": "2522033b-ca54-4353-948c-e69195a4c0bc"
   },
   "outputs": [
    {
     "data": {
      "text/html": [
       "<div>\n",
       "<style scoped>\n",
       "    .dataframe tbody tr th:only-of-type {\n",
       "        vertical-align: middle;\n",
       "    }\n",
       "\n",
       "    .dataframe tbody tr th {\n",
       "        vertical-align: top;\n",
       "    }\n",
       "\n",
       "    .dataframe thead th {\n",
       "        text-align: right;\n",
       "    }\n",
       "</style>\n",
       "<table border=\"1\" class=\"dataframe\">\n",
       "  <thead>\n",
       "    <tr style=\"text-align: right;\">\n",
       "      <th></th>\n",
       "      <th>Domain</th>\n",
       "      <th>Have_IP</th>\n",
       "      <th>Have_At</th>\n",
       "      <th>URL_Length</th>\n",
       "      <th>URL_Depth</th>\n",
       "      <th>Redirection</th>\n",
       "      <th>https_Domain</th>\n",
       "      <th>TinyURL</th>\n",
       "      <th>Prefix/Suffix</th>\n",
       "      <th>iFrame</th>\n",
       "      <th>Mouse_Over</th>\n",
       "      <th>Right_Click</th>\n",
       "      <th>Web_Forwards</th>\n",
       "      <th>Label</th>\n",
       "    </tr>\n",
       "  </thead>\n",
       "  <tbody>\n",
       "    <tr>\n",
       "      <th>0</th>\n",
       "      <td>nepan.org.np</td>\n",
       "      <td>0</td>\n",
       "      <td>0</td>\n",
       "      <td>0</td>\n",
       "      <td>3</td>\n",
       "      <td>0</td>\n",
       "      <td>0</td>\n",
       "      <td>0</td>\n",
       "      <td>0</td>\n",
       "      <td>0</td>\n",
       "      <td>0</td>\n",
       "      <td>1</td>\n",
       "      <td>0</td>\n",
       "      <td>1</td>\n",
       "    </tr>\n",
       "    <tr>\n",
       "      <th>1</th>\n",
       "      <td>therockacc.org</td>\n",
       "      <td>0</td>\n",
       "      <td>0</td>\n",
       "      <td>1</td>\n",
       "      <td>4</td>\n",
       "      <td>0</td>\n",
       "      <td>0</td>\n",
       "      <td>0</td>\n",
       "      <td>0</td>\n",
       "      <td>0</td>\n",
       "      <td>0</td>\n",
       "      <td>1</td>\n",
       "      <td>0</td>\n",
       "      <td>1</td>\n",
       "    </tr>\n",
       "    <tr>\n",
       "      <th>2</th>\n",
       "      <td>telltaleswriting.com</td>\n",
       "      <td>0</td>\n",
       "      <td>0</td>\n",
       "      <td>1</td>\n",
       "      <td>5</td>\n",
       "      <td>0</td>\n",
       "      <td>0</td>\n",
       "      <td>0</td>\n",
       "      <td>0</td>\n",
       "      <td>0</td>\n",
       "      <td>0</td>\n",
       "      <td>0</td>\n",
       "      <td>0</td>\n",
       "      <td>1</td>\n",
       "    </tr>\n",
       "    <tr>\n",
       "      <th>3</th>\n",
       "      <td>serverfault.com</td>\n",
       "      <td>0</td>\n",
       "      <td>0</td>\n",
       "      <td>1</td>\n",
       "      <td>3</td>\n",
       "      <td>0</td>\n",
       "      <td>0</td>\n",
       "      <td>1</td>\n",
       "      <td>0</td>\n",
       "      <td>0</td>\n",
       "      <td>0</td>\n",
       "      <td>1</td>\n",
       "      <td>0</td>\n",
       "      <td>0</td>\n",
       "    </tr>\n",
       "    <tr>\n",
       "      <th>4</th>\n",
       "      <td>autoinsquoter.com</td>\n",
       "      <td>0</td>\n",
       "      <td>0</td>\n",
       "      <td>0</td>\n",
       "      <td>2</td>\n",
       "      <td>1</td>\n",
       "      <td>0</td>\n",
       "      <td>0</td>\n",
       "      <td>0</td>\n",
       "      <td>0</td>\n",
       "      <td>0</td>\n",
       "      <td>0</td>\n",
       "      <td>0</td>\n",
       "      <td>1</td>\n",
       "    </tr>\n",
       "  </tbody>\n",
       "</table>\n",
       "</div>"
      ],
      "text/plain": [
       "                 Domain  Have_IP  Have_At  URL_Length  URL_Depth  Redirection  \\\n",
       "0          nepan.org.np        0        0           0          3            0   \n",
       "1        therockacc.org        0        0           1          4            0   \n",
       "2  telltaleswriting.com        0        0           1          5            0   \n",
       "3       serverfault.com        0        0           1          3            0   \n",
       "4     autoinsquoter.com        0        0           0          2            1   \n",
       "\n",
       "   https_Domain  TinyURL  Prefix/Suffix  iFrame  Mouse_Over  Right_Click  \\\n",
       "0             0        0              0       0           0            1   \n",
       "1             0        0              0       0           0            1   \n",
       "2             0        0              0       0           0            0   \n",
       "3             0        1              0       0           0            1   \n",
       "4             0        0              0       0           0            0   \n",
       "\n",
       "   Web_Forwards  Label  \n",
       "0             0      1  \n",
       "1             0      1  \n",
       "2             0      1  \n",
       "3             0      0  \n",
       "4             0      1  "
      ]
     },
     "execution_count": 65,
     "metadata": {},
     "output_type": "execute_result"
    },
    {
     "data": {
      "text/html": [
       "<div>\n",
       "<style scoped>\n",
       "    .dataframe tbody tr th:only-of-type {\n",
       "        vertical-align: middle;\n",
       "    }\n",
       "\n",
       "    .dataframe tbody tr th {\n",
       "        vertical-align: top;\n",
       "    }\n",
       "\n",
       "    .dataframe thead th {\n",
       "        text-align: right;\n",
       "    }\n",
       "</style>\n",
       "<table border=\"1\" class=\"dataframe\">\n",
       "  <thead>\n",
       "    <tr style=\"text-align: right;\">\n",
       "      <th></th>\n",
       "      <th>Domain</th>\n",
       "      <th>Have_IP</th>\n",
       "      <th>Have_At</th>\n",
       "      <th>URL_Length</th>\n",
       "      <th>URL_Depth</th>\n",
       "      <th>Redirection</th>\n",
       "      <th>https_Domain</th>\n",
       "      <th>TinyURL</th>\n",
       "      <th>Prefix/Suffix</th>\n",
       "      <th>iFrame</th>\n",
       "      <th>Mouse_Over</th>\n",
       "      <th>Right_Click</th>\n",
       "      <th>Web_Forwards</th>\n",
       "      <th>Label</th>\n",
       "    </tr>\n",
       "  </thead>\n",
       "  <tbody>\n",
       "    <tr>\n",
       "      <th>0</th>\n",
       "      <td>nepan.org.np</td>\n",
       "      <td>0</td>\n",
       "      <td>0</td>\n",
       "      <td>0</td>\n",
       "      <td>3</td>\n",
       "      <td>0</td>\n",
       "      <td>0</td>\n",
       "      <td>0</td>\n",
       "      <td>0</td>\n",
       "      <td>0</td>\n",
       "      <td>0</td>\n",
       "      <td>1</td>\n",
       "      <td>0</td>\n",
       "      <td>1</td>\n",
       "    </tr>\n",
       "    <tr>\n",
       "      <th>1</th>\n",
       "      <td>therockacc.org</td>\n",
       "      <td>0</td>\n",
       "      <td>0</td>\n",
       "      <td>1</td>\n",
       "      <td>4</td>\n",
       "      <td>0</td>\n",
       "      <td>0</td>\n",
       "      <td>0</td>\n",
       "      <td>0</td>\n",
       "      <td>0</td>\n",
       "      <td>0</td>\n",
       "      <td>1</td>\n",
       "      <td>0</td>\n",
       "      <td>1</td>\n",
       "    </tr>\n",
       "    <tr>\n",
       "      <th>2</th>\n",
       "      <td>telltaleswriting.com</td>\n",
       "      <td>0</td>\n",
       "      <td>0</td>\n",
       "      <td>1</td>\n",
       "      <td>5</td>\n",
       "      <td>0</td>\n",
       "      <td>0</td>\n",
       "      <td>0</td>\n",
       "      <td>0</td>\n",
       "      <td>0</td>\n",
       "      <td>0</td>\n",
       "      <td>0</td>\n",
       "      <td>0</td>\n",
       "      <td>1</td>\n",
       "    </tr>\n",
       "    <tr>\n",
       "      <th>3</th>\n",
       "      <td>serverfault.com</td>\n",
       "      <td>0</td>\n",
       "      <td>0</td>\n",
       "      <td>1</td>\n",
       "      <td>3</td>\n",
       "      <td>0</td>\n",
       "      <td>0</td>\n",
       "      <td>1</td>\n",
       "      <td>0</td>\n",
       "      <td>0</td>\n",
       "      <td>0</td>\n",
       "      <td>1</td>\n",
       "      <td>0</td>\n",
       "      <td>0</td>\n",
       "    </tr>\n",
       "    <tr>\n",
       "      <th>4</th>\n",
       "      <td>autoinsquoter.com</td>\n",
       "      <td>0</td>\n",
       "      <td>0</td>\n",
       "      <td>0</td>\n",
       "      <td>2</td>\n",
       "      <td>1</td>\n",
       "      <td>0</td>\n",
       "      <td>0</td>\n",
       "      <td>0</td>\n",
       "      <td>0</td>\n",
       "      <td>0</td>\n",
       "      <td>0</td>\n",
       "      <td>0</td>\n",
       "      <td>1</td>\n",
       "    </tr>\n",
       "  </tbody>\n",
       "</table>\n",
       "</div>"
      ],
      "text/plain": [
       "                 Domain  Have_IP  Have_At  URL_Length  URL_Depth  Redirection  \\\n",
       "0          nepan.org.np        0        0           0          3            0   \n",
       "1        therockacc.org        0        0           1          4            0   \n",
       "2  telltaleswriting.com        0        0           1          5            0   \n",
       "3       serverfault.com        0        0           1          3            0   \n",
       "4     autoinsquoter.com        0        0           0          2            1   \n",
       "\n",
       "   https_Domain  TinyURL  Prefix/Suffix  iFrame  Mouse_Over  Right_Click  \\\n",
       "0             0        0              0       0           0            1   \n",
       "1             0        0              0       0           0            1   \n",
       "2             0        0              0       0           0            0   \n",
       "3             0        1              0       0           0            1   \n",
       "4             0        0              0       0           0            0   \n",
       "\n",
       "   Web_Forwards  Label  \n",
       "0             0      1  \n",
       "1             0      1  \n",
       "2             0      1  \n",
       "3             0      0  \n",
       "4             0      1  "
      ]
     },
     "execution_count": 65,
     "metadata": {},
     "output_type": "execute_result"
    }
   ],
   "source": [
    "data.head()"
   ]
  },
  {
   "cell_type": "code",
   "execution_count": null,
   "id": "6731e458",
   "metadata": {},
   "outputs": [
    {
     "data": {
      "text/plain": [
       "(22744, 14)"
      ]
     },
     "execution_count": 66,
     "metadata": {},
     "output_type": "execute_result"
    },
    {
     "data": {
      "text/plain": [
       "(22744, 14)"
      ]
     },
     "execution_count": 66,
     "metadata": {},
     "output_type": "execute_result"
    }
   ],
   "source": [
    "data.shape"
   ]
  },
  {
   "cell_type": "code",
   "execution_count": null,
   "id": "43dd286c",
   "metadata": {
    "colab": {
     "base_uri": "https://localhost:8080/",
     "height": 364
    },
    "id": "43dd286c",
    "outputId": "ca2b885d-0076-45a6-e1f5-1e696d079a3c"
   },
   "outputs": [
    {
     "data": {
      "text/html": [
       "<div>\n",
       "<style scoped>\n",
       "    .dataframe tbody tr th:only-of-type {\n",
       "        vertical-align: middle;\n",
       "    }\n",
       "\n",
       "    .dataframe tbody tr th {\n",
       "        vertical-align: top;\n",
       "    }\n",
       "\n",
       "    .dataframe thead th {\n",
       "        text-align: right;\n",
       "    }\n",
       "</style>\n",
       "<table border=\"1\" class=\"dataframe\">\n",
       "  <thead>\n",
       "    <tr style=\"text-align: right;\">\n",
       "      <th></th>\n",
       "      <th>Have_IP</th>\n",
       "      <th>Have_At</th>\n",
       "      <th>URL_Length</th>\n",
       "      <th>URL_Depth</th>\n",
       "      <th>Redirection</th>\n",
       "      <th>https_Domain</th>\n",
       "      <th>TinyURL</th>\n",
       "      <th>Prefix/Suffix</th>\n",
       "      <th>iFrame</th>\n",
       "      <th>Mouse_Over</th>\n",
       "      <th>Right_Click</th>\n",
       "      <th>Web_Forwards</th>\n",
       "      <th>Label</th>\n",
       "    </tr>\n",
       "  </thead>\n",
       "  <tbody>\n",
       "    <tr>\n",
       "      <th>count</th>\n",
       "      <td>22744.000000</td>\n",
       "      <td>22744.000000</td>\n",
       "      <td>22744.000000</td>\n",
       "      <td>22744.000000</td>\n",
       "      <td>22744.000000</td>\n",
       "      <td>22744.000000</td>\n",
       "      <td>22744.000000</td>\n",
       "      <td>22744.000000</td>\n",
       "      <td>22744.000000</td>\n",
       "      <td>22744.000000</td>\n",
       "      <td>22744.000000</td>\n",
       "      <td>22744.00000</td>\n",
       "      <td>22744.000000</td>\n",
       "    </tr>\n",
       "    <tr>\n",
       "      <th>mean</th>\n",
       "      <td>0.002418</td>\n",
       "      <td>0.024754</td>\n",
       "      <td>0.572679</td>\n",
       "      <td>2.669803</td>\n",
       "      <td>0.356973</td>\n",
       "      <td>0.000703</td>\n",
       "      <td>0.040538</td>\n",
       "      <td>0.136520</td>\n",
       "      <td>0.259981</td>\n",
       "      <td>0.249472</td>\n",
       "      <td>0.659603</td>\n",
       "      <td>0.42996</td>\n",
       "      <td>0.560324</td>\n",
       "    </tr>\n",
       "    <tr>\n",
       "      <th>std</th>\n",
       "      <td>0.049117</td>\n",
       "      <td>0.155377</td>\n",
       "      <td>0.494701</td>\n",
       "      <td>2.013150</td>\n",
       "      <td>0.479117</td>\n",
       "      <td>0.026514</td>\n",
       "      <td>0.197222</td>\n",
       "      <td>0.343347</td>\n",
       "      <td>0.438633</td>\n",
       "      <td>0.432717</td>\n",
       "      <td>0.473853</td>\n",
       "      <td>0.57228</td>\n",
       "      <td>0.496359</td>\n",
       "    </tr>\n",
       "    <tr>\n",
       "      <th>min</th>\n",
       "      <td>0.000000</td>\n",
       "      <td>0.000000</td>\n",
       "      <td>0.000000</td>\n",
       "      <td>0.000000</td>\n",
       "      <td>0.000000</td>\n",
       "      <td>0.000000</td>\n",
       "      <td>0.000000</td>\n",
       "      <td>0.000000</td>\n",
       "      <td>0.000000</td>\n",
       "      <td>0.000000</td>\n",
       "      <td>0.000000</td>\n",
       "      <td>0.00000</td>\n",
       "      <td>0.000000</td>\n",
       "    </tr>\n",
       "    <tr>\n",
       "      <th>25%</th>\n",
       "      <td>0.000000</td>\n",
       "      <td>0.000000</td>\n",
       "      <td>0.000000</td>\n",
       "      <td>1.000000</td>\n",
       "      <td>0.000000</td>\n",
       "      <td>0.000000</td>\n",
       "      <td>0.000000</td>\n",
       "      <td>0.000000</td>\n",
       "      <td>0.000000</td>\n",
       "      <td>0.000000</td>\n",
       "      <td>0.000000</td>\n",
       "      <td>0.00000</td>\n",
       "      <td>0.000000</td>\n",
       "    </tr>\n",
       "    <tr>\n",
       "      <th>50%</th>\n",
       "      <td>0.000000</td>\n",
       "      <td>0.000000</td>\n",
       "      <td>1.000000</td>\n",
       "      <td>2.000000</td>\n",
       "      <td>0.000000</td>\n",
       "      <td>0.000000</td>\n",
       "      <td>0.000000</td>\n",
       "      <td>0.000000</td>\n",
       "      <td>0.000000</td>\n",
       "      <td>0.000000</td>\n",
       "      <td>1.000000</td>\n",
       "      <td>0.00000</td>\n",
       "      <td>1.000000</td>\n",
       "    </tr>\n",
       "    <tr>\n",
       "      <th>75%</th>\n",
       "      <td>0.000000</td>\n",
       "      <td>0.000000</td>\n",
       "      <td>1.000000</td>\n",
       "      <td>4.000000</td>\n",
       "      <td>1.000000</td>\n",
       "      <td>0.000000</td>\n",
       "      <td>0.000000</td>\n",
       "      <td>0.000000</td>\n",
       "      <td>1.000000</td>\n",
       "      <td>0.000000</td>\n",
       "      <td>1.000000</td>\n",
       "      <td>1.00000</td>\n",
       "      <td>1.000000</td>\n",
       "    </tr>\n",
       "    <tr>\n",
       "      <th>max</th>\n",
       "      <td>1.000000</td>\n",
       "      <td>1.000000</td>\n",
       "      <td>1.000000</td>\n",
       "      <td>25.000000</td>\n",
       "      <td>1.000000</td>\n",
       "      <td>1.000000</td>\n",
       "      <td>1.000000</td>\n",
       "      <td>1.000000</td>\n",
       "      <td>1.000000</td>\n",
       "      <td>1.000000</td>\n",
       "      <td>1.000000</td>\n",
       "      <td>6.00000</td>\n",
       "      <td>1.000000</td>\n",
       "    </tr>\n",
       "  </tbody>\n",
       "</table>\n",
       "</div>"
      ],
      "text/plain": [
       "            Have_IP       Have_At    URL_Length     URL_Depth   Redirection  \\\n",
       "count  22744.000000  22744.000000  22744.000000  22744.000000  22744.000000   \n",
       "mean       0.002418      0.024754      0.572679      2.669803      0.356973   \n",
       "std        0.049117      0.155377      0.494701      2.013150      0.479117   \n",
       "min        0.000000      0.000000      0.000000      0.000000      0.000000   \n",
       "25%        0.000000      0.000000      0.000000      1.000000      0.000000   \n",
       "50%        0.000000      0.000000      1.000000      2.000000      0.000000   \n",
       "75%        0.000000      0.000000      1.000000      4.000000      1.000000   \n",
       "max        1.000000      1.000000      1.000000     25.000000      1.000000   \n",
       "\n",
       "       https_Domain       TinyURL  Prefix/Suffix        iFrame    Mouse_Over  \\\n",
       "count  22744.000000  22744.000000   22744.000000  22744.000000  22744.000000   \n",
       "mean       0.000703      0.040538       0.136520      0.259981      0.249472   \n",
       "std        0.026514      0.197222       0.343347      0.438633      0.432717   \n",
       "min        0.000000      0.000000       0.000000      0.000000      0.000000   \n",
       "25%        0.000000      0.000000       0.000000      0.000000      0.000000   \n",
       "50%        0.000000      0.000000       0.000000      0.000000      0.000000   \n",
       "75%        0.000000      0.000000       0.000000      1.000000      0.000000   \n",
       "max        1.000000      1.000000       1.000000      1.000000      1.000000   \n",
       "\n",
       "        Right_Click  Web_Forwards         Label  \n",
       "count  22744.000000   22744.00000  22744.000000  \n",
       "mean       0.659603       0.42996      0.560324  \n",
       "std        0.473853       0.57228      0.496359  \n",
       "min        0.000000       0.00000      0.000000  \n",
       "25%        0.000000       0.00000      0.000000  \n",
       "50%        1.000000       0.00000      1.000000  \n",
       "75%        1.000000       1.00000      1.000000  \n",
       "max        1.000000       6.00000      1.000000  "
      ]
     },
     "execution_count": 67,
     "metadata": {},
     "output_type": "execute_result"
    },
    {
     "data": {
      "text/html": [
       "<div>\n",
       "<style scoped>\n",
       "    .dataframe tbody tr th:only-of-type {\n",
       "        vertical-align: middle;\n",
       "    }\n",
       "\n",
       "    .dataframe tbody tr th {\n",
       "        vertical-align: top;\n",
       "    }\n",
       "\n",
       "    .dataframe thead th {\n",
       "        text-align: right;\n",
       "    }\n",
       "</style>\n",
       "<table border=\"1\" class=\"dataframe\">\n",
       "  <thead>\n",
       "    <tr style=\"text-align: right;\">\n",
       "      <th></th>\n",
       "      <th>Have_IP</th>\n",
       "      <th>Have_At</th>\n",
       "      <th>URL_Length</th>\n",
       "      <th>URL_Depth</th>\n",
       "      <th>Redirection</th>\n",
       "      <th>https_Domain</th>\n",
       "      <th>TinyURL</th>\n",
       "      <th>Prefix/Suffix</th>\n",
       "      <th>iFrame</th>\n",
       "      <th>Mouse_Over</th>\n",
       "      <th>Right_Click</th>\n",
       "      <th>Web_Forwards</th>\n",
       "      <th>Label</th>\n",
       "    </tr>\n",
       "  </thead>\n",
       "  <tbody>\n",
       "    <tr>\n",
       "      <th>count</th>\n",
       "      <td>22744.000000</td>\n",
       "      <td>22744.000000</td>\n",
       "      <td>22744.000000</td>\n",
       "      <td>22744.000000</td>\n",
       "      <td>22744.000000</td>\n",
       "      <td>22744.000000</td>\n",
       "      <td>22744.000000</td>\n",
       "      <td>22744.000000</td>\n",
       "      <td>22744.000000</td>\n",
       "      <td>22744.000000</td>\n",
       "      <td>22744.000000</td>\n",
       "      <td>22744.00000</td>\n",
       "      <td>22744.000000</td>\n",
       "    </tr>\n",
       "    <tr>\n",
       "      <th>mean</th>\n",
       "      <td>0.002418</td>\n",
       "      <td>0.024754</td>\n",
       "      <td>0.572679</td>\n",
       "      <td>2.669803</td>\n",
       "      <td>0.356973</td>\n",
       "      <td>0.000703</td>\n",
       "      <td>0.040538</td>\n",
       "      <td>0.136520</td>\n",
       "      <td>0.259981</td>\n",
       "      <td>0.249472</td>\n",
       "      <td>0.659603</td>\n",
       "      <td>0.42996</td>\n",
       "      <td>0.560324</td>\n",
       "    </tr>\n",
       "    <tr>\n",
       "      <th>std</th>\n",
       "      <td>0.049117</td>\n",
       "      <td>0.155377</td>\n",
       "      <td>0.494701</td>\n",
       "      <td>2.013150</td>\n",
       "      <td>0.479117</td>\n",
       "      <td>0.026514</td>\n",
       "      <td>0.197222</td>\n",
       "      <td>0.343347</td>\n",
       "      <td>0.438633</td>\n",
       "      <td>0.432717</td>\n",
       "      <td>0.473853</td>\n",
       "      <td>0.57228</td>\n",
       "      <td>0.496359</td>\n",
       "    </tr>\n",
       "    <tr>\n",
       "      <th>min</th>\n",
       "      <td>0.000000</td>\n",
       "      <td>0.000000</td>\n",
       "      <td>0.000000</td>\n",
       "      <td>0.000000</td>\n",
       "      <td>0.000000</td>\n",
       "      <td>0.000000</td>\n",
       "      <td>0.000000</td>\n",
       "      <td>0.000000</td>\n",
       "      <td>0.000000</td>\n",
       "      <td>0.000000</td>\n",
       "      <td>0.000000</td>\n",
       "      <td>0.00000</td>\n",
       "      <td>0.000000</td>\n",
       "    </tr>\n",
       "    <tr>\n",
       "      <th>25%</th>\n",
       "      <td>0.000000</td>\n",
       "      <td>0.000000</td>\n",
       "      <td>0.000000</td>\n",
       "      <td>1.000000</td>\n",
       "      <td>0.000000</td>\n",
       "      <td>0.000000</td>\n",
       "      <td>0.000000</td>\n",
       "      <td>0.000000</td>\n",
       "      <td>0.000000</td>\n",
       "      <td>0.000000</td>\n",
       "      <td>0.000000</td>\n",
       "      <td>0.00000</td>\n",
       "      <td>0.000000</td>\n",
       "    </tr>\n",
       "    <tr>\n",
       "      <th>50%</th>\n",
       "      <td>0.000000</td>\n",
       "      <td>0.000000</td>\n",
       "      <td>1.000000</td>\n",
       "      <td>2.000000</td>\n",
       "      <td>0.000000</td>\n",
       "      <td>0.000000</td>\n",
       "      <td>0.000000</td>\n",
       "      <td>0.000000</td>\n",
       "      <td>0.000000</td>\n",
       "      <td>0.000000</td>\n",
       "      <td>1.000000</td>\n",
       "      <td>0.00000</td>\n",
       "      <td>1.000000</td>\n",
       "    </tr>\n",
       "    <tr>\n",
       "      <th>75%</th>\n",
       "      <td>0.000000</td>\n",
       "      <td>0.000000</td>\n",
       "      <td>1.000000</td>\n",
       "      <td>4.000000</td>\n",
       "      <td>1.000000</td>\n",
       "      <td>0.000000</td>\n",
       "      <td>0.000000</td>\n",
       "      <td>0.000000</td>\n",
       "      <td>1.000000</td>\n",
       "      <td>0.000000</td>\n",
       "      <td>1.000000</td>\n",
       "      <td>1.00000</td>\n",
       "      <td>1.000000</td>\n",
       "    </tr>\n",
       "    <tr>\n",
       "      <th>max</th>\n",
       "      <td>1.000000</td>\n",
       "      <td>1.000000</td>\n",
       "      <td>1.000000</td>\n",
       "      <td>25.000000</td>\n",
       "      <td>1.000000</td>\n",
       "      <td>1.000000</td>\n",
       "      <td>1.000000</td>\n",
       "      <td>1.000000</td>\n",
       "      <td>1.000000</td>\n",
       "      <td>1.000000</td>\n",
       "      <td>1.000000</td>\n",
       "      <td>6.00000</td>\n",
       "      <td>1.000000</td>\n",
       "    </tr>\n",
       "  </tbody>\n",
       "</table>\n",
       "</div>"
      ],
      "text/plain": [
       "            Have_IP       Have_At    URL_Length     URL_Depth   Redirection  \\\n",
       "count  22744.000000  22744.000000  22744.000000  22744.000000  22744.000000   \n",
       "mean       0.002418      0.024754      0.572679      2.669803      0.356973   \n",
       "std        0.049117      0.155377      0.494701      2.013150      0.479117   \n",
       "min        0.000000      0.000000      0.000000      0.000000      0.000000   \n",
       "25%        0.000000      0.000000      0.000000      1.000000      0.000000   \n",
       "50%        0.000000      0.000000      1.000000      2.000000      0.000000   \n",
       "75%        0.000000      0.000000      1.000000      4.000000      1.000000   \n",
       "max        1.000000      1.000000      1.000000     25.000000      1.000000   \n",
       "\n",
       "       https_Domain       TinyURL  Prefix/Suffix        iFrame    Mouse_Over  \\\n",
       "count  22744.000000  22744.000000   22744.000000  22744.000000  22744.000000   \n",
       "mean       0.000703      0.040538       0.136520      0.259981      0.249472   \n",
       "std        0.026514      0.197222       0.343347      0.438633      0.432717   \n",
       "min        0.000000      0.000000       0.000000      0.000000      0.000000   \n",
       "25%        0.000000      0.000000       0.000000      0.000000      0.000000   \n",
       "50%        0.000000      0.000000       0.000000      0.000000      0.000000   \n",
       "75%        0.000000      0.000000       0.000000      1.000000      0.000000   \n",
       "max        1.000000      1.000000       1.000000      1.000000      1.000000   \n",
       "\n",
       "        Right_Click  Web_Forwards         Label  \n",
       "count  22744.000000   22744.00000  22744.000000  \n",
       "mean       0.659603       0.42996      0.560324  \n",
       "std        0.473853       0.57228      0.496359  \n",
       "min        0.000000       0.00000      0.000000  \n",
       "25%        0.000000       0.00000      0.000000  \n",
       "50%        1.000000       0.00000      1.000000  \n",
       "75%        1.000000       1.00000      1.000000  \n",
       "max        1.000000       6.00000      1.000000  "
      ]
     },
     "execution_count": 67,
     "metadata": {},
     "output_type": "execute_result"
    }
   ],
   "source": [
    "data.describe()"
   ]
  },
  {
   "cell_type": "markdown",
   "id": "ac84940d",
   "metadata": {
    "id": "ac84940d"
   },
   "source": [
    "The results mentioned above reveal that, with the exception of the \"URL_Depth\" column, the dataset is mostly made up of 0s and 1s. Furthermore, the 'Domain' feature has no impact on the machine learning model that may be created with this dataset, as can be seen. Therefore, it is safe to remove the field \"Domain\" from the dataset."
   ]
  },
  {
   "cell_type": "code",
   "execution_count": null,
   "id": "611265b4",
   "metadata": {
    "id": "611265b4"
   },
   "outputs": [],
   "source": [
    "# Dropping the 'Domain' feild\n",
    "data.drop(['Domain'],axis=1,inplace=True)"
   ]
  },
  {
   "cell_type": "code",
   "execution_count": null,
   "id": "245311fc",
   "metadata": {
    "colab": {
     "base_uri": "https://localhost:8080/"
    },
    "id": "245311fc",
    "outputId": "1cda2cae-da19-4f42-8414-a76a94976d23"
   },
   "outputs": [
    {
     "data": {
      "text/plain": [
       "(22744, 13)"
      ]
     },
     "execution_count": 69,
     "metadata": {},
     "output_type": "execute_result"
    },
    {
     "data": {
      "text/plain": [
       "(22744, 13)"
      ]
     },
     "execution_count": 69,
     "metadata": {},
     "output_type": "execute_result"
    }
   ],
   "source": [
    "# Checking the shape of the dataset \n",
    "data.shape"
   ]
  },
  {
   "cell_type": "code",
   "execution_count": null,
   "id": "81f6ae97",
   "metadata": {},
   "outputs": [
    {
     "data": {
      "image/png": "[encoded data removed]",
      "text/plain": [
       "<Figure size 1500x1500 with 16 Axes>"
      ]
     },
     "metadata": {},
     "output_type": "display_data"
    },
    {
     "data": {
      "image/png": "[encoded data removed]",
      "text/plain": [
       "<Figure size 1500x1500 with 16 Axes>"
      ]
     },
     "metadata": {},
     "output_type": "display_data"
    }
   ],
   "source": [
    "data.hist(figsize = (15,15))\n",
    "plt.show()"
   ]
  },
  {
   "cell_type": "code",
   "execution_count": null,
   "id": "9ac7b8f1",
   "metadata": {
    "colab": {
     "base_uri": "https://localhost:8080/"
    },
    "id": "9ac7b8f1",
    "outputId": "85262932-98fd-42f2-b096-3427dedda79f"
   },
   "outputs": [
    {
     "data": {
      "text/plain": [
       "((22744, 12), (22744,))"
      ]
     },
     "execution_count": 71,
     "metadata": {},
     "output_type": "execute_result"
    },
    {
     "data": {
      "text/plain": [
       "((22744, 12), (22744,))"
      ]
     },
     "execution_count": 71,
     "metadata": {},
     "output_type": "execute_result"
    }
   ],
   "source": [
    "y=data['Label']\n",
    "X=data.drop(['Label'],axis=1)\n",
    "X.shape,y.shape"
   ]
  },
  {
   "cell_type": "markdown",
   "id": "MGk16uAsmw7f",
   "metadata": {
    "id": "MGk16uAsmw7f"
   },
   "source": [
    "# Splitting the data"
   ]
  },
  {
   "cell_type": "code",
   "execution_count": null,
   "id": "ITroIVlSRaHf",
   "metadata": {
    "colab": {
     "base_uri": "https://localhost:8080/"
    },
    "id": "ITroIVlSRaHf",
    "outputId": "6a12a40f-97b8-49b0-c454-36c4b9a13885"
   },
   "outputs": [
    {
     "name": "stdout",
     "output_type": "stream",
     "text": [
      "(15920, 12) (6824, 12) (15920,) (6824,)\n",
      "(15920, 12) (6824, 12) (15920,) (6824,)\n"
     ]
    }
   ],
   "source": [
    "# split a dataset into train and test sets\n",
    "from sklearn.model_selection import train_test_split\n",
    "# split into train test sets\n",
    "X_train, X_test, y_train, y_test = train_test_split(X, y, test_size=0.3,random_state=12)\n",
    "print(X_train.shape, X_test.shape, y_train.shape, y_test.shape)"
   ]
  },
  {
   "cell_type": "code",
   "execution_count": null,
   "id": "2d22a032",
   "metadata": {
    "id": "2d22a032"
   },
   "outputs": [],
   "source": [
    "\n",
    "# Creating holders to store the model performance results\n",
    "Model = []\n",
    "Train_Accuracy = []\n",
    "Test_Accuracy = []\n",
    "\n",
    "#function to call for storing the results\n",
    "def accuracy_scores(model, a,b):\n",
    "  Model.append(model)\n",
    "  Train_Accuracy.append((a*100))\n",
    "  Test_Accuracy.append((b*100))"
   ]
  },
  {
   "cell_type": "markdown",
   "id": "q8NEt0GrRjuZ",
   "metadata": {
    "id": "q8NEt0GrRjuZ"
   },
   "source": [
    "# Decision tree algorithm\n"
   ]
  },
  {
   "cell_type": "markdown",
   "id": "EmFkLFZJSBOg",
   "metadata": {
    "id": "EmFkLFZJSBOg"
   },
   "source": [
    "Decision trees are used for classification and regression tasks. It is a hierarchical model that uses a tree-like model of decisions and their possible consequences"
   ]
  },
  {
   "cell_type": "code",
   "execution_count": null,
   "id": "WWIEak8RSem5",
   "metadata": {
    "colab": {
     "base_uri": "https://localhost:8080/",
     "height": 74
    },
    "id": "WWIEak8RSem5",
    "outputId": "07cfef14-807f-4add-e6f2-2293034d2763"
   },
   "outputs": [
    {
     "data": {
      "text/plain": [
       "DecisionTreeClassifier()"
      ]
     },
     "execution_count": 74,
     "metadata": {},
     "output_type": "execute_result"
    },
    {
     "data": {
      "text/plain": [
       "DecisionTreeClassifier()"
      ]
     },
     "execution_count": 74,
     "metadata": {},
     "output_type": "execute_result"
    }
   ],
   "source": [
    "# importing decision tree algorithm\n",
    "from sklearn.tree import DecisionTreeClassifier\n",
    "from sklearn.metrics import accuracy_score\n",
    "#creating a model\n",
    "tree = DecisionTreeClassifier()\n",
    "#fitting the model\n",
    "tree.fit(X_train, y_train)"
   ]
  },
  {
   "cell_type": "code",
   "execution_count": null,
   "id": "rCG7QZwSTf2B",
   "metadata": {
    "id": "rCG7QZwSTf2B"
   },
   "outputs": [],
   "source": [
    "#predicting the target value from the model for the samples\n",
    "y_test_tree = tree.predict(X_test)\n",
    "y_train_tree = tree.predict(X_train)"
   ]
  },
  {
   "cell_type": "code",
   "execution_count": null,
   "id": "UAUNVVh8TyGQ",
   "metadata": {
    "id": "UAUNVVh8TyGQ"
   },
   "outputs": [],
   "source": [
    "dta_train_acc = accuracy_score(y_train,y_train_tree)\n",
    "dta_test_acc = accuracy_score(y_test,y_test_tree)"
   ]
  },
  {
   "cell_type": "code",
   "execution_count": null,
   "id": "020e98a9",
   "metadata": {
    "colab": {
     "base_uri": "https://localhost:8080/"
    },
    "id": "020e98a9",
    "outputId": "7544edcc-c870-4919-ea02-bc3d2018f0c9"
   },
   "outputs": [
    {
     "name": "stdout",
     "output_type": "stream",
     "text": [
      "DTA: Accuracy on training Data: 0.916\n",
      "DTA : Accuracy on test Data: 0.909\n",
      "DTA: Accuracy on training Data: 0.916\n",
      "DTA : Accuracy on test Data: 0.909\n"
     ]
    }
   ],
   "source": [
    "print(\"DTA: Accuracy on training Data: {:.3f}\".format(dta_train_acc))\n",
    "print(\"DTA : Accuracy on test Data: {:.3f}\".format(dta_test_acc))"
   ]
  },
  {
   "cell_type": "code",
   "execution_count": null,
   "id": "tPCdiDmBUAV9",
   "metadata": {
    "id": "tPCdiDmBUAV9"
   },
   "outputs": [],
   "source": [
    "accuracy_scores('Decision Tree', dta_train_acc, dta_test_acc)"
   ]
  },
  {
   "cell_type": "code",
   "execution_count": null,
   "id": "XOuUXf--UWjE",
   "metadata": {
    "colab": {
     "base_uri": "https://localhost:8080/",
     "height": 431
    },
    "id": "XOuUXf--UWjE",
    "outputId": "2f3aadf1-eea3-4562-f36d-0cd248809b72"
   },
   "outputs": [
    {
     "data": {
      "image/png": "[encoded data removed]",
      "text/plain": [
       "<Figure size 400x400 with 1 Axes>"
      ]
     },
     "metadata": {},
     "output_type": "display_data"
    },
    {
     "data": {
      "image/png": "[encoded data removed]",
      "text/plain": [
       "<Figure size 400x400 with 1 Axes>"
      ]
     },
     "metadata": {},
     "output_type": "display_data"
    }
   ],
   "source": [
    "# Knowing the importance features in the data \n",
    "\n",
    "plt.figure(figsize=(4,4))\n",
    "plt.title('Important Features for Decision Tree\\n')\n",
    "n_features = X_train.shape[1]\n",
    "plt.barh(range(n_features), tree.feature_importances_, align='center')\n",
    "plt.yticks(np.arange(n_features), X_train.columns)\n",
    "plt.xlabel(\"Feature importance\")\n",
    "plt.ylabel(\"Feature\")\n",
    "plt.show()"
   ]
  },
  {
   "cell_type": "markdown",
   "id": "XURpS6MzTRE9",
   "metadata": {
    "id": "XURpS6MzTRE9"
   },
   "source": []
  },
  {
   "cell_type": "markdown",
   "id": "VwovfIAHVLxT",
   "metadata": {
    "id": "VwovfIAHVLxT"
   },
   "source": [
    "# Random Forest Algorithm"
   ]
  },
  {
   "cell_type": "markdown",
   "id": "ZsoKTDJoYE7r",
   "metadata": {
    "id": "ZsoKTDJoYE7r"
   },
   "source": [
    "Random forest is a commonly-used machine learning algorithm which combines the output of multiple decision trees to reach a single result."
   ]
  },
  {
   "cell_type": "code",
   "execution_count": null,
   "id": "Dz9SlDTjYUrC",
   "metadata": {
    "colab": {
     "base_uri": "https://localhost:8080/",
     "height": 74
    },
    "id": "Dz9SlDTjYUrC",
    "outputId": "0dcb9c6f-c413-4769-a075-bf49175ca8cf"
   },
   "outputs": [
    {
     "data": {
      "text/plain": [
       "RandomForestClassifier()"
      ]
     },
     "execution_count": 80,
     "metadata": {},
     "output_type": "execute_result"
    },
    {
     "data": {
      "text/plain": [
       "RandomForestClassifier()"
      ]
     },
     "execution_count": 80,
     "metadata": {},
     "output_type": "execute_result"
    }
   ],
   "source": [
    "from sklearn.ensemble import RandomForestClassifier\n",
    "forest = RandomForestClassifier()\n",
    "forest.fit(X_train, y_train)"
   ]
  },
  {
   "cell_type": "code",
   "execution_count": null,
   "id": "hd1XxVDPYt98",
   "metadata": {
    "id": "hd1XxVDPYt98"
   },
   "outputs": [],
   "source": [
    "y_test_forest = forest.predict(X_test)\n",
    "y_train_forest = forest.predict(X_train)"
   ]
  },
  {
   "cell_type": "code",
   "execution_count": null,
   "id": "T6jpkn_ZYxyT",
   "metadata": {
    "id": "T6jpkn_ZYxyT"
   },
   "outputs": [],
   "source": [
    "rfa_train_acc = accuracy_score(y_train,y_train_forest)\n",
    "rfa_test_acc = accuracy_score(y_test,y_test_forest)"
   ]
  },
  {
   "cell_type": "code",
   "execution_count": null,
   "id": "ZkT4iXqCY7On",
   "metadata": {
    "colab": {
     "base_uri": "https://localhost:8080/"
    },
    "id": "ZkT4iXqCY7On",
    "outputId": "e575ad51-26e4-4739-9eb9-62ffd01df244"
   },
   "outputs": [
    {
     "name": "stdout",
     "output_type": "stream",
     "text": [
      "RFA: Accuracy on training Data: 0.916\n",
      "RFA : Accuracy on test Data: 0.910\n",
      "RFA: Accuracy on training Data: 0.916\n",
      "RFA : Accuracy on test Data: 0.910\n"
     ]
    }
   ],
   "source": [
    "print(\"RFA: Accuracy on training Data: {:.3f}\".format(rfa_train_acc))\n",
    "print(\"RFA : Accuracy on test Data: {:.3f}\".format(rfa_test_acc))"
   ]
  },
  {
   "cell_type": "code",
   "execution_count": null,
   "id": "a3317c83",
   "metadata": {
    "id": "a3317c83"
   },
   "outputs": [],
   "source": [
    "accuracy_scores('Random Forest Algorithm', rfa_train_acc, rfa_test_acc)"
   ]
  },
  {
   "cell_type": "code",
   "execution_count": null,
   "id": "hZfwB4_2fanv",
   "metadata": {
    "colab": {
     "base_uri": "https://localhost:8080/",
     "height": 431
    },
    "id": "hZfwB4_2fanv",
    "outputId": "c9c8c239-bbbb-4c15-aedf-5fcf29944f72"
   },
   "outputs": [
    {
     "data": {
      "image/png": "[encoded data removed]",
      "text/plain": [
       "<Figure size 400x400 with 1 Axes>"
      ]
     },
     "metadata": {},
     "output_type": "display_data"
    },
    {
     "data": {
      "image/png": "[encoded data removed]",
      "text/plain": [
       "<Figure size 400x400 with 1 Axes>"
      ]
     },
     "metadata": {},
     "output_type": "display_data"
    }
   ],
   "source": [
    "# Knowing the importance features in the data \n",
    "\n",
    "plt.figure(figsize=(4,4))\n",
    "plt.title('Important Features for Random Forest\\n')\n",
    "n_features = X_train.shape[1]\n",
    "plt.barh(range(n_features), forest.feature_importances_, align='center')\n",
    "plt.yticks(np.arange(n_features), X_train.columns)\n",
    "plt.xlabel(\"Feature importance\")\n",
    "plt.ylabel(\"Feature\")\n",
    "plt.show()"
   ]
  },
  {
   "cell_type": "markdown",
   "id": "9nd9n5VwY-vO",
   "metadata": {
    "id": "9nd9n5VwY-vO"
   },
   "source": [
    "# LightGBM"
   ]
  },
  {
   "cell_type": "code",
   "execution_count": null,
   "id": "2pCThsmHcBjp",
   "metadata": {
    "id": "2pCThsmHcBjp"
   },
   "outputs": [],
   "source": [
    "import lightgbm as lgb"
   ]
  },
  {
   "cell_type": "code",
   "execution_count": null,
   "id": "mJGX_47Jcc6o",
   "metadata": {
    "id": "mJGX_47Jcc6o"
   },
   "outputs": [],
   "source": [
    "from lightgbm import LGBMClassifier"
   ]
  },
  {
   "cell_type": "code",
   "execution_count": null,
   "id": "mcFidqkrcuHU",
   "metadata": {
    "colab": {
     "base_uri": "https://localhost:8080/",
     "height": 74
    },
    "id": "mcFidqkrcuHU",
    "outputId": "c18ba647-bfe0-4a68-d789-0b6860c3e429"
   },
   "outputs": [
    {
     "data": {
      "text/plain": [
       "LGBMClassifier()"
      ]
     },
     "execution_count": 90,
     "metadata": {},
     "output_type": "execute_result"
    },
    {
     "data": {
      "text/plain": [
       "LGBMClassifier()"
      ]
     },
     "execution_count": 90,
     "metadata": {},
     "output_type": "execute_result"
    }
   ],
   "source": [
    "model = LGBMClassifier()\n",
    "model.fit(X_train, y_train)"
   ]
  },
  {
   "cell_type": "code",
   "execution_count": null,
   "id": "wn-BWnfVdJjK",
   "metadata": {
    "id": "wn-BWnfVdJjK"
   },
   "outputs": [],
   "source": [
    "y_test_model = model.predict(X_test)\n",
    "y_train_model = model.predict(X_train)"
   ]
  },
  {
   "cell_type": "code",
   "execution_count": null,
   "id": "qXZHNebrdYC9",
   "metadata": {
    "colab": {
     "base_uri": "https://localhost:8080/"
    },
    "id": "qXZHNebrdYC9",
    "outputId": "bfb06288-eb7e-4bfb-ee2e-af500dbeb4d3"
   },
   "outputs": [
    {
     "name": "stdout",
     "output_type": "stream",
     "text": [
      "LGBM: Accuracy on training Data: 0.916\n",
      "LGBM: Accuracy on test Data: 0.910\n",
      "LGBM: Accuracy on training Data: 0.916\n",
      "LGBM: Accuracy on test Data: 0.910\n"
     ]
    }
   ],
   "source": [
    "#computing the accuracy of the model performance\n",
    "lgbm_train_acc = accuracy_score(y_train,y_train_model)\n",
    "lgbm_test_acc = accuracy_score(y_test,y_test_model)\n",
    "\n",
    "print(\"LGBM: Accuracy on training Data: {:.3f}\".format(lgbm_train_acc))\n",
    "print(\"LGBM: Accuracy on test Data: {:.3f}\".format(lgbm_test_acc))"
   ]
  },
  {
   "cell_type": "code",
   "execution_count": null,
   "id": "6894b62a",
   "metadata": {
    "id": "6894b62a"
   },
   "outputs": [],
   "source": [
    "accuracy_scores('LightGBM', lgbm_train_acc, lgbm_test_acc)"
   ]
  },
  {
   "cell_type": "code",
   "execution_count": null,
   "id": "3oKGdC3ndcOu",
   "metadata": {
    "colab": {
     "base_uri": "https://localhost:8080/",
     "height": 431
    },
    "id": "3oKGdC3ndcOu",
    "outputId": "7335b685-88e9-4e24-9f53-35a6fbc18e31"
   },
   "outputs": [
    {
     "data": {
      "image/png": "[encoded data removed]",
      "text/plain": [
       "<Figure size 400x400 with 1 Axes>"
      ]
     },
     "metadata": {},
     "output_type": "display_data"
    },
    {
     "data": {
      "image/png": "[encoded data removed]",
      "text/plain": [
       "<Figure size 400x400 with 1 Axes>"
      ]
     },
     "metadata": {},
     "output_type": "display_data"
    }
   ],
   "source": [
    "\n",
    "# Knowing the importance features in the data \n",
    "\n",
    "plt.figure(figsize=(4,4))\n",
    "plt.title('Important Features for LightGBM\\n')\n",
    "n_features = X_train.shape[1]\n",
    "plt.barh(range(n_features), model.feature_importances_, align='center')\n",
    "plt.yticks(np.arange(n_features), X_train.columns)\n",
    "plt.xlabel(\"Feature importance\")\n",
    "plt.ylabel(\"Feature\")\n",
    "plt.show()"
   ]
  },
  {
   "cell_type": "markdown",
   "id": "UgaabmXgeOmp",
   "metadata": {
    "id": "UgaabmXgeOmp"
   },
   "source": [
    "# SVM"
   ]
  },
  {
   "cell_type": "code",
   "execution_count": null,
   "id": "1iH-ubWJeXIZ",
   "metadata": {
    "id": "1iH-ubWJeXIZ"
   },
   "outputs": [],
   "source": [
    "from sklearn.svm import SVC"
   ]
  },
  {
   "cell_type": "code",
   "execution_count": null,
   "id": "TI4UCsw_dgDg",
   "metadata": {
    "colab": {
     "base_uri": "https://localhost:8080/",
     "height": 74
    },
    "id": "TI4UCsw_dgDg",
    "outputId": "8060545b-3268-48b0-ae3a-7ab447d5759e"
   },
   "outputs": [
    {
     "data": {
      "text/plain": [
       "SVC(C=0.1, gamma=1, kernel='linear')"
      ]
     },
     "execution_count": 96,
     "metadata": {},
     "output_type": "execute_result"
    },
    {
     "data": {
      "text/plain": [
       "SVC(C=0.1, gamma=1, kernel='linear')"
      ]
     },
     "execution_count": 96,
     "metadata": {},
     "output_type": "execute_result"
    }
   ],
   "source": [
    "svc_model = SVC(C=.1, kernel='linear', gamma=1)\n",
    "svc_model.fit(X_train, y_train)"
   ]
  },
  {
   "cell_type": "code",
   "execution_count": null,
   "id": "ogG5V8UaeNa9",
   "metadata": {
    "id": "ogG5V8UaeNa9"
   },
   "outputs": [],
   "source": [
    "y_test_svm = svc_model.predict(X_test)\n",
    "y_train_svm = svc_model.predict(X_train)"
   ]
  },
  {
   "cell_type": "code",
   "execution_count": null,
   "id": "UQP_9iTUegwh",
   "metadata": {
    "colab": {
     "base_uri": "https://localhost:8080/"
    },
    "id": "UQP_9iTUegwh",
    "outputId": "fa5ed5c2-8f03-4bf3-db7d-cb5ab3880eb6"
   },
   "outputs": [
    {
     "name": "stdout",
     "output_type": "stream",
     "text": [
      "SVM: Accuracy on training Data: 0.896\n",
      "SVM : Accuracy on test Data: 0.897\n",
      "SVM: Accuracy on training Data: 0.896\n",
      "SVM : Accuracy on test Data: 0.897\n"
     ]
    }
   ],
   "source": [
    "#computing the accuracy of the model performance\n",
    "acc_train_svm = accuracy_score(y_train,y_train_svm)\n",
    "acc_test_svm = accuracy_score(y_test,y_test_svm)\n",
    "\n",
    "print(\"SVM: Accuracy on training Data: {:.3f}\".format(acc_train_svm))\n",
    "print(\"SVM : Accuracy on test Data: {:.3f}\".format(acc_test_svm))"
   ]
  },
  {
   "cell_type": "code",
   "execution_count": null,
   "id": "d4b6bac6",
   "metadata": {
    "id": "d4b6bac6"
   },
   "outputs": [],
   "source": [
    "accuracy_scores('Support Vector Machine', acc_train_svm, acc_test_svm)"
   ]
  },
  {
   "cell_type": "code",
   "execution_count": null,
   "id": "c14f43b9",
   "metadata": {},
   "outputs": [],
   "source": []
  },
  {
   "cell_type": "markdown",
   "id": "0bbd1fde",
   "metadata": {},
   "source": [
    "# Naïve Bayes"
   ]
  },
  {
   "cell_type": "code",
   "execution_count": null,
   "id": "7b30ef5d",
   "metadata": {},
   "outputs": [],
   "source": [
    "from sklearn.naive_bayes import GaussianNB\n",
    "\n",
    "gnb = GaussianNB()\n",
    "gnb.fit(X_train,y_train)\n",
    "#computing the accuracy of the model performance\n",
    "\n",
    "y_test_gnb = gnb.predict(X_test)\n",
    "y_train_gnb = gnb.predict(X_train)"
   ]
  },
  {
   "cell_type": "code",
   "execution_count": null,
   "id": "8fbc70e2",
   "metadata": {},
   "outputs": [
    {
     "name": "stdout",
     "output_type": "stream",
     "text": [
      "gnb: Accuracy of the Gaussian Naïve Bayes on training data: 0.790\n",
      "gnb: Accuracy of the Gaussian Naïve Bayes on test data: 0.791\n",
      "gnb: Accuracy of the Gaussian Naïve Bayes on training data: 0.790\n",
      "gnb: Accuracy of the Gaussian Naïve Bayes on test data: 0.791\n"
     ]
    }
   ],
   "source": [
    "gnb_train_acc = accuracy_score(y_train,y_train_gnb)\n",
    "gnb_test_acc = accuracy_score(y_test,y_test_gnb)\n",
    "\n",
    "print('gnb: Accuracy of the Gaussian Naïve Bayes on training data: {:.3f}'.format(gnb_train_acc))\n",
    "print('gnb: Accuracy of the Gaussian Naïve Bayes on test data: {:.3f}'.format(gnb_test_acc))"
   ]
  },
  {
   "cell_type": "code",
   "execution_count": null,
   "id": "c1bb856f",
   "metadata": {},
   "outputs": [],
   "source": [
    "# Storing in data of the accuracy scores\n",
    "accuracy_scores('Gaussian Naïve Bayes',gnb_train_acc, gnb_test_acc)"
   ]
  },
  {
   "cell_type": "code",
   "execution_count": null,
   "id": "7d1f682e",
   "metadata": {},
   "outputs": [],
   "source": []
  },
  {
   "cell_type": "markdown",
   "id": "31TIWq1lVUGl",
   "metadata": {
    "id": "31TIWq1lVUGl"
   },
   "source": [
    "# XFBoost Classifier"
   ]
  },
  {
   "cell_type": "code",
   "execution_count": null,
   "id": "6H19DEuBUSrJ",
   "metadata": {
    "id": "6H19DEuBUSrJ"
   },
   "outputs": [],
   "source": [
    "from xgboost import XGBClassifier\n",
    "xgb =XGBClassifier()"
   ]
  },
  {
   "cell_type": "code",
   "execution_count": null,
   "id": "nt2cz1EKXdti",
   "metadata": {
    "colab": {
     "base_uri": "https://localhost:8080/",
     "height": 247
    },
    "id": "nt2cz1EKXdti",
    "outputId": "80a20873-0ec2-4045-b456-51d6c2a98474"
   },
   "outputs": [
    {
     "data": {
      "text/plain": [
       "XGBClassifier(base_score=None, booster=None, callbacks=None,\n",
       "              colsample_bylevel=None, colsample_bynode=None,\n",
       "              colsample_bytree=None, early_stopping_rounds=None,\n",
       "              enable_categorical=False, eval_metric=None, feature_types=None,\n",
       "              gamma=None, gpu_id=None, grow_policy=None, importance_type=None,\n",
       "              interaction_constraints=None, learning_rate=None, max_bin=None,\n",
       "              max_cat_threshold=None, max_cat_to_onehot=None,\n",
       "              max_delta_step=None, max_depth=None, max_leaves=None,\n",
       "              min_child_weight=None, missing=nan, monotone_constraints=None,\n",
       "              n_estimators=100, n_jobs=None, num_parallel_tree=None,\n",
       "              predictor=None, random_state=None, ...)"
      ]
     },
     "execution_count": 104,
     "metadata": {},
     "output_type": "execute_result"
    },
    {
     "data": {
      "text/plain": [
       "XGBClassifier(base_score=None, booster=None, callbacks=None,\n",
       "              colsample_bylevel=None, colsample_bynode=None,\n",
       "              colsample_bytree=None, early_stopping_rounds=None,\n",
       "              enable_categorical=False, eval_metric=None, feature_types=None,\n",
       "              gamma=None, gpu_id=None, grow_policy=None, importance_type=None,\n",
       "              interaction_constraints=None, learning_rate=None, max_bin=None,\n",
       "              max_cat_threshold=None, max_cat_to_onehot=None,\n",
       "              max_delta_step=None, max_depth=None, max_leaves=None,\n",
       "              min_child_weight=None, missing=nan, monotone_constraints=None,\n",
       "              n_estimators=100, n_jobs=None, num_parallel_tree=None,\n",
       "              predictor=None, random_state=None, ...)"
      ]
     },
     "execution_count": 104,
     "metadata": {},
     "output_type": "execute_result"
    }
   ],
   "source": [
    "xgb.fit(X_train, y_train)"
   ]
  },
  {
   "cell_type": "code",
   "execution_count": null,
   "id": "PeK-nhB-XeCc",
   "metadata": {
    "id": "PeK-nhB-XeCc"
   },
   "outputs": [],
   "source": [
    "#computing the accuracy of the model performance\n",
    "\n",
    "y_test_xgb = xgb.predict(X_test)\n",
    "y_train_xgb = xgb.predict(X_train)"
   ]
  },
  {
   "cell_type": "code",
   "execution_count": null,
   "id": "1fd44f91",
   "metadata": {
    "colab": {
     "base_uri": "https://localhost:8080/"
    },
    "id": "1fd44f91",
    "outputId": "f0d77655-6997-466d-fd57-ce336390cbc8"
   },
   "outputs": [
    {
     "name": "stdout",
     "output_type": "stream",
     "text": [
      "XGB: Accuracy of XGBoost on training Data: 0.916\n",
      "XGB: Accuracy of XGBoost on test Data: 0.910\n",
      "XGB: Accuracy of XGBoost on training Data: 0.916\n",
      "XGB: Accuracy of XGBoost on test Data: 0.910\n"
     ]
    }
   ],
   "source": [
    "\n",
    "xgb_train_acc = accuracy_score(y_train,y_train_xgb)\n",
    "xgb_test_acc = accuracy_score(y_test,y_test_xgb)\n",
    "\n",
    "print('XGB: Accuracy of XGBoost on training Data: {:.3f}'.format(xgb_train_acc))\n",
    "print('XGB: Accuracy of XGBoost on test Data: {:.3f}'.format(xgb_test_acc))"
   ]
  },
  {
   "cell_type": "code",
   "execution_count": null,
   "id": "fc2bd26d",
   "metadata": {
    "id": "fc2bd26d"
   },
   "outputs": [],
   "source": [
    "accuracy_scores('XGBoost', xgb_train_acc, xgb_test_acc)"
   ]
  },
  {
   "cell_type": "code",
   "execution_count": null,
   "id": "N9aPaabrfp41",
   "metadata": {
    "colab": {
     "base_uri": "https://localhost:8080/",
     "height": 431
    },
    "id": "N9aPaabrfp41",
    "outputId": "7905cc99-88a0-4414-c827-ef9d808a371b"
   },
   "outputs": [
    {
     "data": {
      "image/png": "[encoded data removed]",
      "text/plain": [
       "<Figure size 400x400 with 1 Axes>"
      ]
     },
     "metadata": {},
     "output_type": "display_data"
    },
    {
     "data": {
      "image/png": "[encoded data removed]",
      "text/plain": [
       "<Figure size 400x400 with 1 Axes>"
      ]
     },
     "metadata": {},
     "output_type": "display_data"
    }
   ],
   "source": [
    "# Knowing the importance features in the data \n",
    "\n",
    "plt.figure(figsize=(4,4))\n",
    "plt.title('Important Features for XGBoost\\n')\n",
    "n_features = X_train.shape[1]\n",
    "plt.barh(range(n_features), xgb.feature_importances_, align='center')\n",
    "plt.yticks(np.arange(n_features), X_train.columns)\n",
    "plt.xlabel(\"Feature importance\")\n",
    "plt.ylabel(\"Feature\")\n",
    "plt.show()"
   ]
  },
  {
   "cell_type": "code",
   "execution_count": null,
   "id": "d04f698a",
   "metadata": {
    "colab": {
     "base_uri": "https://localhost:8080/",
     "height": 206
    },
    "id": "d04f698a",
    "outputId": "d341917f-4942-403e-83c0-58d40c0bff09"
   },
   "outputs": [
    {
     "data": {
      "text/html": [
       "<div>\n",
       "<style scoped>\n",
       "    .dataframe tbody tr th:only-of-type {\n",
       "        vertical-align: middle;\n",
       "    }\n",
       "\n",
       "    .dataframe tbody tr th {\n",
       "        vertical-align: top;\n",
       "    }\n",
       "\n",
       "    .dataframe thead th {\n",
       "        text-align: right;\n",
       "    }\n",
       "</style>\n",
       "<table border=\"1\" class=\"dataframe\">\n",
       "  <thead>\n",
       "    <tr style=\"text-align: right;\">\n",
       "      <th></th>\n",
       "      <th>ML Model</th>\n",
       "      <th>Train Accuracy</th>\n",
       "      <th>Test Accuracy</th>\n",
       "    </tr>\n",
       "  </thead>\n",
       "  <tbody>\n",
       "    <tr>\n",
       "      <th>0</th>\n",
       "      <td>Decision Tree</td>\n",
       "      <td>91.589196</td>\n",
       "      <td>90.929074</td>\n",
       "    </tr>\n",
       "    <tr>\n",
       "      <th>1</th>\n",
       "      <td>Random Forest Algorithm</td>\n",
       "      <td>91.589196</td>\n",
       "      <td>91.002345</td>\n",
       "    </tr>\n",
       "    <tr>\n",
       "      <th>2</th>\n",
       "      <td>LightGBM</td>\n",
       "      <td>91.557789</td>\n",
       "      <td>91.002345</td>\n",
       "    </tr>\n",
       "    <tr>\n",
       "      <th>3</th>\n",
       "      <td>Support Vector Machine</td>\n",
       "      <td>89.629397</td>\n",
       "      <td>89.668816</td>\n",
       "    </tr>\n",
       "    <tr>\n",
       "      <th>4</th>\n",
       "      <td>Gaussian Naïve Bayes</td>\n",
       "      <td>79.007538</td>\n",
       "      <td>79.088511</td>\n",
       "    </tr>\n",
       "    <tr>\n",
       "      <th>5</th>\n",
       "      <td>XGBoost</td>\n",
       "      <td>91.564070</td>\n",
       "      <td>91.002345</td>\n",
       "    </tr>\n",
       "  </tbody>\n",
       "</table>\n",
       "</div>"
      ],
      "text/plain": [
       "                  ML Model  Train Accuracy  Test Accuracy\n",
       "0            Decision Tree       91.589196      90.929074\n",
       "1  Random Forest Algorithm       91.589196      91.002345\n",
       "2                 LightGBM       91.557789      91.002345\n",
       "3   Support Vector Machine       89.629397      89.668816\n",
       "4     Gaussian Naïve Bayes       79.007538      79.088511\n",
       "5                  XGBoost       91.564070      91.002345"
      ]
     },
     "execution_count": 109,
     "metadata": {},
     "output_type": "execute_result"
    },
    {
     "data": {
      "text/html": [
       "<div>\n",
       "<style scoped>\n",
       "    .dataframe tbody tr th:only-of-type {\n",
       "        vertical-align: middle;\n",
       "    }\n",
       "\n",
       "    .dataframe tbody tr th {\n",
       "        vertical-align: top;\n",
       "    }\n",
       "\n",
       "    .dataframe thead th {\n",
       "        text-align: right;\n",
       "    }\n",
       "</style>\n",
       "<table border=\"1\" class=\"dataframe\">\n",
       "  <thead>\n",
       "    <tr style=\"text-align: right;\">\n",
       "      <th></th>\n",
       "      <th>ML Model</th>\n",
       "      <th>Train Accuracy</th>\n",
       "      <th>Test Accuracy</th>\n",
       "    </tr>\n",
       "  </thead>\n",
       "  <tbody>\n",
       "    <tr>\n",
       "      <th>0</th>\n",
       "      <td>Decision Tree</td>\n",
       "      <td>91.589196</td>\n",
       "      <td>90.929074</td>\n",
       "    </tr>\n",
       "    <tr>\n",
       "      <th>1</th>\n",
       "      <td>Random Forest Algorithm</td>\n",
       "      <td>91.589196</td>\n",
       "      <td>91.002345</td>\n",
       "    </tr>\n",
       "    <tr>\n",
       "      <th>2</th>\n",
       "      <td>LightGBM</td>\n",
       "      <td>91.557789</td>\n",
       "      <td>91.002345</td>\n",
       "    </tr>\n",
       "    <tr>\n",
       "      <th>3</th>\n",
       "      <td>Support Vector Machine</td>\n",
       "      <td>89.629397</td>\n",
       "      <td>89.668816</td>\n",
       "    </tr>\n",
       "    <tr>\n",
       "      <th>4</th>\n",
       "      <td>Gaussian Naïve Bayes</td>\n",
       "      <td>79.007538</td>\n",
       "      <td>79.088511</td>\n",
       "    </tr>\n",
       "    <tr>\n",
       "      <th>5</th>\n",
       "      <td>XGBoost</td>\n",
       "      <td>91.564070</td>\n",
       "      <td>91.002345</td>\n",
       "    </tr>\n",
       "  </tbody>\n",
       "</table>\n",
       "</div>"
      ],
      "text/plain": [
       "                  ML Model  Train Accuracy  Test Accuracy\n",
       "0            Decision Tree       91.589196      90.929074\n",
       "1  Random Forest Algorithm       91.589196      91.002345\n",
       "2                 LightGBM       91.557789      91.002345\n",
       "3   Support Vector Machine       89.629397      89.668816\n",
       "4     Gaussian Naïve Bayes       79.007538      79.088511\n",
       "5                  XGBoost       91.564070      91.002345"
      ]
     },
     "execution_count": 109,
     "metadata": {},
     "output_type": "execute_result"
    }
   ],
   "source": [
    "#creating dataframe\n",
    "results = pd.DataFrame({ 'ML Model': Model,'Train Accuracy': Train_Accuracy,'Test Accuracy': Test_Accuracy})\n",
    "results"
   ]
  },
  {
   "cell_type": "code",
   "execution_count": null,
   "id": "U39sFxj2h_5n",
   "metadata": {
    "colab": {
     "base_uri": "https://localhost:8080/",
     "height": 206
    },
    "id": "U39sFxj2h_5n",
    "outputId": "fe51a8aa-2a65-4274-bc01-5c6e42895f23"
   },
   "outputs": [
    {
     "data": {
      "text/html": [
       "<div>\n",
       "<style scoped>\n",
       "    .dataframe tbody tr th:only-of-type {\n",
       "        vertical-align: middle;\n",
       "    }\n",
       "\n",
       "    .dataframe tbody tr th {\n",
       "        vertical-align: top;\n",
       "    }\n",
       "\n",
       "    .dataframe thead th {\n",
       "        text-align: right;\n",
       "    }\n",
       "</style>\n",
       "<table border=\"1\" class=\"dataframe\">\n",
       "  <thead>\n",
       "    <tr style=\"text-align: right;\">\n",
       "      <th></th>\n",
       "      <th>ML Model</th>\n",
       "      <th>Train Accuracy</th>\n",
       "      <th>Test Accuracy</th>\n",
       "    </tr>\n",
       "  </thead>\n",
       "  <tbody>\n",
       "    <tr>\n",
       "      <th>1</th>\n",
       "      <td>Random Forest Algorithm</td>\n",
       "      <td>91.589196</td>\n",
       "      <td>91.002345</td>\n",
       "    </tr>\n",
       "    <tr>\n",
       "      <th>0</th>\n",
       "      <td>Decision Tree</td>\n",
       "      <td>91.589196</td>\n",
       "      <td>90.929074</td>\n",
       "    </tr>\n",
       "    <tr>\n",
       "      <th>5</th>\n",
       "      <td>XGBoost</td>\n",
       "      <td>91.564070</td>\n",
       "      <td>91.002345</td>\n",
       "    </tr>\n",
       "    <tr>\n",
       "      <th>2</th>\n",
       "      <td>LightGBM</td>\n",
       "      <td>91.557789</td>\n",
       "      <td>91.002345</td>\n",
       "    </tr>\n",
       "    <tr>\n",
       "      <th>3</th>\n",
       "      <td>Support Vector Machine</td>\n",
       "      <td>89.629397</td>\n",
       "      <td>89.668816</td>\n",
       "    </tr>\n",
       "    <tr>\n",
       "      <th>4</th>\n",
       "      <td>Gaussian Naïve Bayes</td>\n",
       "      <td>79.007538</td>\n",
       "      <td>79.088511</td>\n",
       "    </tr>\n",
       "  </tbody>\n",
       "</table>\n",
       "</div>"
      ],
      "text/plain": [
       "                  ML Model  Train Accuracy  Test Accuracy\n",
       "1  Random Forest Algorithm       91.589196      91.002345\n",
       "0            Decision Tree       91.589196      90.929074\n",
       "5                  XGBoost       91.564070      91.002345\n",
       "2                 LightGBM       91.557789      91.002345\n",
       "3   Support Vector Machine       89.629397      89.668816\n",
       "4     Gaussian Naïve Bayes       79.007538      79.088511"
      ]
     },
     "execution_count": 110,
     "metadata": {},
     "output_type": "execute_result"
    },
    {
     "data": {
      "text/html": [
       "<div>\n",
       "<style scoped>\n",
       "    .dataframe tbody tr th:only-of-type {\n",
       "        vertical-align: middle;\n",
       "    }\n",
       "\n",
       "    .dataframe tbody tr th {\n",
       "        vertical-align: top;\n",
       "    }\n",
       "\n",
       "    .dataframe thead th {\n",
       "        text-align: right;\n",
       "    }\n",
       "</style>\n",
       "<table border=\"1\" class=\"dataframe\">\n",
       "  <thead>\n",
       "    <tr style=\"text-align: right;\">\n",
       "      <th></th>\n",
       "      <th>ML Model</th>\n",
       "      <th>Train Accuracy</th>\n",
       "      <th>Test Accuracy</th>\n",
       "    </tr>\n",
       "  </thead>\n",
       "  <tbody>\n",
       "    <tr>\n",
       "      <th>1</th>\n",
       "      <td>Random Forest Algorithm</td>\n",
       "      <td>91.589196</td>\n",
       "      <td>91.002345</td>\n",
       "    </tr>\n",
       "    <tr>\n",
       "      <th>0</th>\n",
       "      <td>Decision Tree</td>\n",
       "      <td>91.589196</td>\n",
       "      <td>90.929074</td>\n",
       "    </tr>\n",
       "    <tr>\n",
       "      <th>5</th>\n",
       "      <td>XGBoost</td>\n",
       "      <td>91.564070</td>\n",
       "      <td>91.002345</td>\n",
       "    </tr>\n",
       "    <tr>\n",
       "      <th>2</th>\n",
       "      <td>LightGBM</td>\n",
       "      <td>91.557789</td>\n",
       "      <td>91.002345</td>\n",
       "    </tr>\n",
       "    <tr>\n",
       "      <th>3</th>\n",
       "      <td>Support Vector Machine</td>\n",
       "      <td>89.629397</td>\n",
       "      <td>89.668816</td>\n",
       "    </tr>\n",
       "    <tr>\n",
       "      <th>4</th>\n",
       "      <td>Gaussian Naïve Bayes</td>\n",
       "      <td>79.007538</td>\n",
       "      <td>79.088511</td>\n",
       "    </tr>\n",
       "  </tbody>\n",
       "</table>\n",
       "</div>"
      ],
      "text/plain": [
       "                  ML Model  Train Accuracy  Test Accuracy\n",
       "1  Random Forest Algorithm       91.589196      91.002345\n",
       "0            Decision Tree       91.589196      90.929074\n",
       "5                  XGBoost       91.564070      91.002345\n",
       "2                 LightGBM       91.557789      91.002345\n",
       "3   Support Vector Machine       89.629397      89.668816\n",
       "4     Gaussian Naïve Bayes       79.007538      79.088511"
      ]
     },
     "execution_count": 110,
     "metadata": {},
     "output_type": "execute_result"
    }
   ],
   "source": [
    "results.sort_values(by=['Train Accuracy', 'Test Accuracy'], ascending = False)"
   ]
  },
  {
   "cell_type": "code",
   "execution_count": null,
   "id": "c3dc4b0e",
   "metadata": {},
   "outputs": [],
   "source": []
  },
  {
   "cell_type": "markdown",
   "id": "7eb6fc00",
   "metadata": {},
   "source": [
    "# Model Building"
   ]
  },
  {
   "cell_type": "code",
   "execution_count": null,
   "id": "8482652f",
   "metadata": {},
   "outputs": [],
   "source": [
    "import pickle"
   ]
  },
  {
   "cell_type": "code",
   "execution_count": null,
   "id": "deecedec",
   "metadata": {},
   "outputs": [],
   "source": [
    "with open('random_forest_model.pkl', 'wb') as file:\n",
    "    pickle.dump(forest, file)"
   ]
  },
  {
   "cell_type": "code",
   "execution_count": null,
   "id": "f3cdd2b8",
   "metadata": {},
   "outputs": [],
   "source": []
  },
  {
   "cell_type": "code",
   "execution_count": null,
   "id": "6796bf42",
   "metadata": {},
   "outputs": [],
   "source": []
  },
  {
   "cell_type": "code",
   "execution_count": null,
   "id": "e1adbe77",
   "metadata": {},
   "outputs": [],
   "source": []
  }
 ],
 "metadata": {
  "colab": {
   "provenance": []
  },
  "kernelspec": {
   "display_name": "Python 3 (ipykernel)",
   "language": "python",
   "name": "python3"
  },
  "language_info": {
   "codemirror_mode": {
    "name": "ipython",
    "version": 3
   },
   "file_extension": ".py",
   "mimetype": "text/x-python",
   "name": "python",
   "nbconvert_exporter": "python",
   "pygments_lexer": "ipython3",
   "version": "3.11.4"
  }
 },
 "nbformat": 4,
 "nbformat_minor": 5
}
